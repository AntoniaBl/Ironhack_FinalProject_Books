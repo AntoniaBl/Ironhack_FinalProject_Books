{
 "cells": [
  {
   "cell_type": "markdown",
   "id": "5ca48746",
   "metadata": {},
   "source": [
    "# Model"
   ]
  },
  {
   "cell_type": "markdown",
   "id": "c087bf16",
   "metadata": {},
   "source": [
    "# Word Embedding using TF-IDF\n",
    "The model shall give recommendations based on the book title and description. Before building any NLP model, we need to convert the text data to numerical data in a meaningful way. Such word embedding techniques are: <br>\n",
    "1. Bag of words <br>\n",
    "2. TF-IDF <br>\n",
    "3. Word2vec <br>\n",
    "4. Latent Semantic Analysis encoding <br>\n",
    "\n",
    "For this model we use TF-IDF short for term frequency–inverse document frequency, is a numerical statistic that is intended to reflect how important a word is to a document."
   ]
  },
  {
   "cell_type": "code",
   "execution_count": null,
   "id": "d1ab8611",
   "metadata": {},
   "outputs": [],
   "source": [
    " #Search for title in database (options in streamlit that proposes the book title?)\n",
    "def recommender(title):\n",
    "    #reset index based on choices\n",
    "    data.reset_index(level = 0, inplace = True) \n",
    "  \n",
    "    # Convert the index into series\n",
    "    indices = pd.Series(data.index, index = data['title'])\n",
    "    \n",
    "    tf = TfidfVectorizer(analyzer='word', ngram_range=(2, 2), min_df = 1, stop_words='english')\n",
    "    tfidf_matrix = tf.fit_transform(data['title_tokenized'])\n",
    "    \n",
    "    # Calculating the similarity measures based on Cosine Similarity\n",
    "    sg = cosine_similarity(tfidf_matrix, tfidf_matrix)\n",
    "    \n",
    "    # Get the index corresponding to original_title\n",
    "    idx = indices[title_tokenized]# Get the pairwsie similarity scores \n",
    "    sig = list(enumerate(sg[idx]))# Sort the books\n",
    "    sig = sorted(sig, key=lambda x: x[1], reverse=True)# Scores of the 6 most similar books \n",
    "    sig = sig[1:6]# Book indicies\n",
    "    book_indices = [i[0] for i in sig]\n",
    "   \n",
    "    # Top 5 book recommendation\n",
    "    rec = data[['title', 'url']].iloc[book_indices]\n",
    "       \n",
    "    # It reads the top 6 recommended book urls and print the images\n",
    "    \n",
    "    for i in rec['url']:\n",
    "        response = requests.get(i)\n",
    "        img = Image.open(BytesIO(response.content))\n",
    "        plt.figure()\n",
    "        print(plt.imshow(img))\n",
    "    \n",
    "   \n",
    "    "
   ]
  },
  {
   "cell_type": "code",
   "execution_count": null,
   "id": "f38ce758",
   "metadata": {},
   "outputs": [],
   "source": [
    "#column \"pages\" (Later EDA: Replace 0 with mean)\n",
    "#Replace 'None' 0, EDA: Fill later with mean \n",
    "#funct.fillup_mean('pages')\n",
    "funct.replace_in_column(cleaningdata,'pages','None','0')\n",
    "cleaningdata['pages'].value_counts()"
   ]
  }
 ],
 "metadata": {
  "kernelspec": {
   "display_name": "Python 3",
   "language": "python",
   "name": "python3"
  },
  "language_info": {
   "codemirror_mode": {
    "name": "ipython",
    "version": 3
   },
   "file_extension": ".py",
   "mimetype": "text/x-python",
   "name": "python",
   "nbconvert_exporter": "python",
   "pygments_lexer": "ipython3",
   "version": "3.9.4"
  },
  "toc": {
   "base_numbering": 1,
   "nav_menu": {},
   "number_sections": true,
   "sideBar": true,
   "skip_h1_title": true,
   "title_cell": "Table of Contents",
   "title_sidebar": "Contents",
   "toc_cell": false,
   "toc_position": {},
   "toc_section_display": true,
   "toc_window_display": false
  }
 },
 "nbformat": 4,
 "nbformat_minor": 5
}
