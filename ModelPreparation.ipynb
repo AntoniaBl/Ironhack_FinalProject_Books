{
 "cells": [
  {
   "cell_type": "code",
   "execution_count": null,
   "id": "36617f9c",
   "metadata": {},
   "outputs": [],
   "source": []
  },
  {
   "cell_type": "code",
   "execution_count": null,
   "id": "3f7c3dc5",
   "metadata": {},
   "outputs": [],
   "source": [
    "#column \"pages\" (Later EDA: Replace 0 with mean)\n",
    "#Replace 'None' 0, EDA: Fill later with mean \n",
    "#funct.fillup_mean('pages')\n",
    "funct.replace_in_column(cleaningdata,'pages','None','0')\n",
    "cleaningdata['pages'].value_counts()"
   ]
  },
  {
   "cell_type": "code",
   "execution_count": null,
   "id": "0291af68",
   "metadata": {},
   "outputs": [],
   "source": []
  },
  {
   "cell_type": "code",
   "execution_count": null,
   "id": "0c82e5a8",
   "metadata": {},
   "outputs": [],
   "source": []
  },
  {
   "cell_type": "code",
   "execution_count": null,
   "id": "2b5f02c7",
   "metadata": {},
   "outputs": [],
   "source": []
  },
  {
   "cell_type": "code",
   "execution_count": null,
   "id": "dbbf8578",
   "metadata": {},
   "outputs": [],
   "source": [
    "# Function for removing NonAscii characters\n",
    "#def _removeNonAscii(s):\n",
    "#    return \"\".join(i for i in s if  ord(i)<128)\n",
    "\n",
    "# Function for converting into lower case\n",
    "def make_lower_case(text):\n",
    "    return text.lower()\n",
    "\n",
    "# Function for removing stop words\n",
    "def remove_stop_words(text):\n",
    "    text = text.split()\n",
    "    stops = set(stopwords.words(\"english\"))\n",
    "    text = [w for w in text if not w in stops]\n",
    "    text = \" \".join(text)\n",
    "    return text\n",
    "\n",
    "# Function for removing punctuation\n",
    "def remove_punctuation(text):\n",
    "    tokenizer = RegexpTokenizer(r'\\w+')\n",
    "    text = tokenizer.tokenize(text)\n",
    "    text = \" \".join(text)\n",
    "    return text\n",
    "\n",
    "# Function for removing the html tags\n",
    "def remove_html(text):\n",
    "    html_pattern = re.compile('<.*?>')\n",
    "    return html_pattern.sub(r'', text)\n",
    "\n",
    "# Applying all the functions in description and storing as a cleaned_desc\n",
    "df['cleaned_desc'] = df['Desc'].apply(_removeNonAscii)\n",
    "df['cleaned_desc'] = df.cleaned_desc.apply(func = make_lower_case)\n",
    "df['cleaned_desc'] = df.cleaned_desc.apply(func = remove_stop_words)\n",
    "df['cleaned_desc'] = df.cleaned_desc.apply(func=remove_punctuation)\n",
    "df['cleaned_desc'] = df.cleaned_desc.apply(func=remove_html)"
   ]
  }
 ],
 "metadata": {
  "kernelspec": {
   "display_name": "Python 3",
   "language": "python",
   "name": "python3"
  },
  "language_info": {
   "codemirror_mode": {
    "name": "ipython",
    "version": 3
   },
   "file_extension": ".py",
   "mimetype": "text/x-python",
   "name": "python",
   "nbconvert_exporter": "python",
   "pygments_lexer": "ipython3",
   "version": "3.9.4"
  },
  "toc": {
   "base_numbering": 1,
   "nav_menu": {},
   "number_sections": true,
   "sideBar": true,
   "skip_h1_title": true,
   "title_cell": "Table of Contents",
   "title_sidebar": "Contents",
   "toc_cell": false,
   "toc_position": {},
   "toc_section_display": true,
   "toc_window_display": false
  }
 },
 "nbformat": 4,
 "nbformat_minor": 5
}
