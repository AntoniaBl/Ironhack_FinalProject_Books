{
 "cells": [
  {
   "cell_type": "markdown",
   "id": "4358da68",
   "metadata": {},
   "source": [
    "# Data Cleaning for Visualization"
   ]
  },
  {
   "cell_type": "markdown",
   "id": "579b9045",
   "metadata": {},
   "source": [
    "## Import Libraries"
   ]
  },
  {
   "cell_type": "code",
   "execution_count": 75,
   "id": "a0981521",
   "metadata": {},
   "outputs": [],
   "source": [
    "import pandas as pd\n",
    "import Functions_Books as funct\n",
    "import glob"
   ]
  },
  {
   "cell_type": "markdown",
   "id": "337b0b96",
   "metadata": {},
   "source": [
    "## Import and check Dataframe"
   ]
  },
  {
   "cell_type": "code",
   "execution_count": 76,
   "id": "a4166bec",
   "metadata": {},
   "outputs": [
    {
     "data": {
      "text/html": [
       "<div>\n",
       "<style scoped>\n",
       "    .dataframe tbody tr th:only-of-type {\n",
       "        vertical-align: middle;\n",
       "    }\n",
       "\n",
       "    .dataframe tbody tr th {\n",
       "        vertical-align: top;\n",
       "    }\n",
       "\n",
       "    .dataframe thead th {\n",
       "        text-align: right;\n",
       "    }\n",
       "</style>\n",
       "<table border=\"1\" class=\"dataframe\">\n",
       "  <thead>\n",
       "    <tr style=\"text-align: right;\">\n",
       "      <th></th>\n",
       "      <th>Unnamed: 0</th>\n",
       "      <th>title</th>\n",
       "      <th>series</th>\n",
       "      <th>authors</th>\n",
       "      <th>isbn</th>\n",
       "      <th>genres</th>\n",
       "      <th>description</th>\n",
       "      <th>pages</th>\n",
       "      <th>year</th>\n",
       "      <th>language</th>\n",
       "      <th>cover_image</th>\n",
       "      <th>total_number_ratings</th>\n",
       "      <th>average_rating</th>\n",
       "    </tr>\n",
       "  </thead>\n",
       "  <tbody>\n",
       "    <tr>\n",
       "      <th>0</th>\n",
       "      <td>0</td>\n",
       "      <td>To Kill a Mockingbird</td>\n",
       "      <td>To Kill a Mockingbird</td>\n",
       "      <td>'Harper Lee'</td>\n",
       "      <td>1439550417</td>\n",
       "      <td>'Classics', 'Fiction', 'Historical', 'Historic...</td>\n",
       "      <td>The unforgettable novel of a childhood in a sl...</td>\n",
       "      <td>324</td>\n",
       "      <td>1960</td>\n",
       "      <td>English</td>\n",
       "      <td>https://i.gr-assets.com/images/S/compressed.ph...</td>\n",
       "      <td>5011381</td>\n",
       "      <td>4.27</td>\n",
       "    </tr>\n",
       "    <tr>\n",
       "      <th>1</th>\n",
       "      <td>1</td>\n",
       "      <td>Harry Potter and the Sorcerer's Stone</td>\n",
       "      <td>Harry Potter #1</td>\n",
       "      <td>'J.K. Rowling'</td>\n",
       "      <td>0</td>\n",
       "      <td>'Fantasy', 'Fiction', 'Young Adult', 'Magic', ...</td>\n",
       "      <td>Harry Potter's life is miserable. His parents ...</td>\n",
       "      <td>309</td>\n",
       "      <td>1997</td>\n",
       "      <td>English</td>\n",
       "      <td>https://i.gr-assets.com/images/S/compressed.ph...</td>\n",
       "      <td>8003482</td>\n",
       "      <td>4.47</td>\n",
       "    </tr>\n",
       "    <tr>\n",
       "      <th>2</th>\n",
       "      <td>2</td>\n",
       "      <td>The Diary of a Young Girl</td>\n",
       "      <td>none</td>\n",
       "      <td>'Anne Frank', 'Eleanor Roosevelt', 'Barbara Mo...</td>\n",
       "      <td>330107372</td>\n",
       "      <td>'Nonfiction', 'Classics', 'History', 'Biograph...</td>\n",
       "      <td>Discovered in the attic in which she spent the...</td>\n",
       "      <td>283</td>\n",
       "      <td>1947</td>\n",
       "      <td>English</td>\n",
       "      <td>https://i.gr-assets.com/images/S/compressed.ph...</td>\n",
       "      <td>3088199</td>\n",
       "      <td>4.16</td>\n",
       "    </tr>\n",
       "    <tr>\n",
       "      <th>3</th>\n",
       "      <td>3</td>\n",
       "      <td>Animal Farm</td>\n",
       "      <td>none</td>\n",
       "      <td>'George Orwell', 'Russell Baker', 'C.M. Woodho...</td>\n",
       "      <td>9780451526342</td>\n",
       "      <td>'Classics', 'Fiction', 'Science Fiction', 'Dys...</td>\n",
       "      <td>Librarian's note: There is an Alternate Cover ...</td>\n",
       "      <td>141</td>\n",
       "      <td>1945</td>\n",
       "      <td>English</td>\n",
       "      <td>https://i.gr-assets.com/images/S/compressed.ph...</td>\n",
       "      <td>3095756</td>\n",
       "      <td>3.97</td>\n",
       "    </tr>\n",
       "    <tr>\n",
       "      <th>4</th>\n",
       "      <td>4</td>\n",
       "      <td>The Little Prince</td>\n",
       "      <td>none</td>\n",
       "      <td>'Antoine de Saint-Exupéry', 'Richard Howard'</td>\n",
       "      <td>3125971403</td>\n",
       "      <td>'Classics', 'Fiction', 'Fantasy', 'Childrens',...</td>\n",
       "      <td>A pilot stranded in the desert awakes one morn...</td>\n",
       "      <td>96</td>\n",
       "      <td>1943</td>\n",
       "      <td>English</td>\n",
       "      <td>https://i.gr-assets.com/images/S/compressed.ph...</td>\n",
       "      <td>1609561</td>\n",
       "      <td>4.31</td>\n",
       "    </tr>\n",
       "  </tbody>\n",
       "</table>\n",
       "</div>"
      ],
      "text/plain": [
       "   Unnamed: 0                                  title                 series  \\\n",
       "0           0                  To Kill a Mockingbird  To Kill a Mockingbird   \n",
       "1           1  Harry Potter and the Sorcerer's Stone        Harry Potter #1   \n",
       "2           2              The Diary of a Young Girl                   none   \n",
       "3           3                            Animal Farm                   none   \n",
       "4           4                      The Little Prince                   none   \n",
       "\n",
       "                                             authors           isbn  \\\n",
       "0                                       'Harper Lee'     1439550417   \n",
       "1                                     'J.K. Rowling'              0   \n",
       "2  'Anne Frank', 'Eleanor Roosevelt', 'Barbara Mo...      330107372   \n",
       "3  'George Orwell', 'Russell Baker', 'C.M. Woodho...  9780451526342   \n",
       "4       'Antoine de Saint-Exupéry', 'Richard Howard'     3125971403   \n",
       "\n",
       "                                              genres  \\\n",
       "0  'Classics', 'Fiction', 'Historical', 'Historic...   \n",
       "1  'Fantasy', 'Fiction', 'Young Adult', 'Magic', ...   \n",
       "2  'Nonfiction', 'Classics', 'History', 'Biograph...   \n",
       "3  'Classics', 'Fiction', 'Science Fiction', 'Dys...   \n",
       "4  'Classics', 'Fiction', 'Fantasy', 'Childrens',...   \n",
       "\n",
       "                                         description  pages  year language  \\\n",
       "0  The unforgettable novel of a childhood in a sl...    324  1960  English   \n",
       "1  Harry Potter's life is miserable. His parents ...    309  1997  English   \n",
       "2  Discovered in the attic in which she spent the...    283  1947  English   \n",
       "3  Librarian's note: There is an Alternate Cover ...    141  1945  English   \n",
       "4  A pilot stranded in the desert awakes one morn...     96  1943  English   \n",
       "\n",
       "                                         cover_image  total_number_ratings  \\\n",
       "0  https://i.gr-assets.com/images/S/compressed.ph...               5011381   \n",
       "1  https://i.gr-assets.com/images/S/compressed.ph...               8003482   \n",
       "2  https://i.gr-assets.com/images/S/compressed.ph...               3088199   \n",
       "3  https://i.gr-assets.com/images/S/compressed.ph...               3095756   \n",
       "4  https://i.gr-assets.com/images/S/compressed.ph...               1609561   \n",
       "\n",
       "   average_rating  \n",
       "0            4.27  \n",
       "1            4.47  \n",
       "2            4.16  \n",
       "3            3.97  \n",
       "4            4.31  "
      ]
     },
     "execution_count": 76,
     "metadata": {},
     "output_type": "execute_result"
    }
   ],
   "source": [
    "rawdata =pd.read_csv(r'DataFinal\\DataCleaningaftercategorical.csv')\n",
    "cleaningdata = rawdata.copy()\n",
    "cleaningdata.head()"
   ]
  },
  {
   "cell_type": "code",
   "execution_count": 77,
   "id": "07cacf6a",
   "metadata": {},
   "outputs": [
    {
     "data": {
      "text/plain": [
       "Unnamed: 0                                                            900\n",
       "title                                             Hometown Girl After All\n",
       "series                                                        Hometown #2\n",
       "authors                                                 'Kirsten Fullmer'\n",
       "isbn                                                        9781979854894\n",
       "genres                  'Contemporary', 'Young Adult', 'New Adult', 'F...\n",
       "description             Julia lost everything while she was ill. Self-...\n",
       "pages                                                                 352\n",
       "year                                                                 2017\n",
       "language                                                          English\n",
       "cover_image             https://i.gr-assets.com/images/S/compressed.ph...\n",
       "total_number_ratings                                                 1000\n",
       "average_rating                                                       4.31\n",
       "Name: 900, dtype: object"
      ]
     },
     "execution_count": 77,
     "metadata": {},
     "output_type": "execute_result"
    }
   ],
   "source": [
    "cleaningdata.loc[900,:]"
   ]
  },
  {
   "cell_type": "code",
   "execution_count": 78,
   "id": "e0bf4605",
   "metadata": {},
   "outputs": [
    {
     "data": {
      "text/plain": [
       "(8431, 13)"
      ]
     },
     "execution_count": 78,
     "metadata": {},
     "output_type": "execute_result"
    }
   ],
   "source": [
    "cleaningdata.shape"
   ]
  },
  {
   "cell_type": "code",
   "execution_count": 79,
   "id": "cec50b38",
   "metadata": {},
   "outputs": [
    {
     "name": "stdout",
     "output_type": "stream",
     "text": [
      "<class 'pandas.core.frame.DataFrame'>\n",
      "RangeIndex: 8431 entries, 0 to 8430\n",
      "Data columns (total 13 columns):\n",
      " #   Column                Non-Null Count  Dtype  \n",
      "---  ------                --------------  -----  \n",
      " 0   Unnamed: 0            8431 non-null   int64  \n",
      " 1   title                 8431 non-null   object \n",
      " 2   series                8431 non-null   object \n",
      " 3   authors               8431 non-null   object \n",
      " 4   isbn                  8431 non-null   int64  \n",
      " 5   genres                7558 non-null   object \n",
      " 6   description           7967 non-null   object \n",
      " 7   pages                 8431 non-null   int64  \n",
      " 8   year                  8431 non-null   object \n",
      " 9   language              8431 non-null   object \n",
      " 10  cover_image           8382 non-null   object \n",
      " 11  total_number_ratings  8431 non-null   int64  \n",
      " 12  average_rating        8431 non-null   float64\n",
      "dtypes: float64(1), int64(4), object(8)\n",
      "memory usage: 856.4+ KB\n"
     ]
    }
   ],
   "source": [
    "cleaningdata.info()"
   ]
  },
  {
   "cell_type": "markdown",
   "id": "edd688de",
   "metadata": {},
   "source": [
    "Categoricals: title, series, authors, genres, description, language, cover_image, isbn(?) <br>\n",
    "Numericals: pages, total_number_ratings, average_rating <br>\n",
    "Date: year"
   ]
  },
  {
   "cell_type": "markdown",
   "id": "9c08938d",
   "metadata": {},
   "source": [
    "## Remove column \"Unnamed:\""
   ]
  },
  {
   "cell_type": "code",
   "execution_count": 80,
   "id": "aa33e54c",
   "metadata": {},
   "outputs": [
    {
     "data": {
      "text/plain": [
       "Index(['title', 'series', 'authors', 'isbn', 'genres', 'description', 'pages',\n",
       "       'year', 'language', 'cover_image', 'total_number_ratings',\n",
       "       'average_rating'],\n",
       "      dtype='object')"
      ]
     },
     "execution_count": 80,
     "metadata": {},
     "output_type": "execute_result"
    }
   ],
   "source": [
    "cleaningdata=cleaningdata.drop(columns='Unnamed: 0', axis=1)\n",
    "cleaningdata.columns"
   ]
  },
  {
   "cell_type": "code",
   "execution_count": 73,
   "id": "96f86763",
   "metadata": {},
   "outputs": [
    {
     "data": {
      "text/html": [
       "<div>\n",
       "<style scoped>\n",
       "    .dataframe tbody tr th:only-of-type {\n",
       "        vertical-align: middle;\n",
       "    }\n",
       "\n",
       "    .dataframe tbody tr th {\n",
       "        vertical-align: top;\n",
       "    }\n",
       "\n",
       "    .dataframe thead th {\n",
       "        text-align: right;\n",
       "    }\n",
       "</style>\n",
       "<table border=\"1\" class=\"dataframe\">\n",
       "  <thead>\n",
       "    <tr style=\"text-align: right;\">\n",
       "      <th></th>\n",
       "      <th>title</th>\n",
       "      <th>series</th>\n",
       "      <th>authors</th>\n",
       "      <th>isbn</th>\n",
       "      <th>genres</th>\n",
       "      <th>description</th>\n",
       "      <th>pages</th>\n",
       "      <th>year</th>\n",
       "      <th>language</th>\n",
       "      <th>cover_image</th>\n",
       "      <th>total_number_ratings</th>\n",
       "      <th>average_rating</th>\n",
       "    </tr>\n",
       "  </thead>\n",
       "  <tbody>\n",
       "    <tr>\n",
       "      <th>0</th>\n",
       "      <td>To Kill a Mockingbird</td>\n",
       "      <td>To Kill a Mockingbird</td>\n",
       "      <td>'Harper Lee'</td>\n",
       "      <td>1439550417</td>\n",
       "      <td>'Classics', 'Fiction', 'Historical', 'Historic...</td>\n",
       "      <td>The unforgettable novel of a childhood in a sl...</td>\n",
       "      <td>324</td>\n",
       "      <td>1960</td>\n",
       "      <td>English</td>\n",
       "      <td>https://i.gr-assets.com/images/S/compressed.ph...</td>\n",
       "      <td>5011381</td>\n",
       "      <td>4.27</td>\n",
       "    </tr>\n",
       "    <tr>\n",
       "      <th>1</th>\n",
       "      <td>Harry Potter and the Sorcerer's Stone</td>\n",
       "      <td>Harry Potter #1</td>\n",
       "      <td>'J.K. Rowling'</td>\n",
       "      <td>0</td>\n",
       "      <td>'Fantasy', 'Fiction', 'Young Adult', 'Magic', ...</td>\n",
       "      <td>Harry Potter's life is miserable. His parents ...</td>\n",
       "      <td>309</td>\n",
       "      <td>1997</td>\n",
       "      <td>English</td>\n",
       "      <td>https://i.gr-assets.com/images/S/compressed.ph...</td>\n",
       "      <td>8003482</td>\n",
       "      <td>4.47</td>\n",
       "    </tr>\n",
       "    <tr>\n",
       "      <th>2</th>\n",
       "      <td>The Diary of a Young Girl</td>\n",
       "      <td>none</td>\n",
       "      <td>'Anne Frank', 'Eleanor Roosevelt', 'Barbara Mo...</td>\n",
       "      <td>330107372</td>\n",
       "      <td>'Nonfiction', 'Classics', 'History', 'Biograph...</td>\n",
       "      <td>Discovered in the attic in which she spent the...</td>\n",
       "      <td>283</td>\n",
       "      <td>1947</td>\n",
       "      <td>English</td>\n",
       "      <td>https://i.gr-assets.com/images/S/compressed.ph...</td>\n",
       "      <td>3088199</td>\n",
       "      <td>4.16</td>\n",
       "    </tr>\n",
       "    <tr>\n",
       "      <th>3</th>\n",
       "      <td>Animal Farm</td>\n",
       "      <td>none</td>\n",
       "      <td>'George Orwell', 'Russell Baker', 'C.M. Woodho...</td>\n",
       "      <td>9780451526342</td>\n",
       "      <td>'Classics', 'Fiction', 'Science Fiction', 'Dys...</td>\n",
       "      <td>Librarian's note: There is an Alternate Cover ...</td>\n",
       "      <td>141</td>\n",
       "      <td>1945</td>\n",
       "      <td>English</td>\n",
       "      <td>https://i.gr-assets.com/images/S/compressed.ph...</td>\n",
       "      <td>3095756</td>\n",
       "      <td>3.97</td>\n",
       "    </tr>\n",
       "    <tr>\n",
       "      <th>4</th>\n",
       "      <td>The Little Prince</td>\n",
       "      <td>none</td>\n",
       "      <td>'Antoine de Saint-Exupéry', 'Richard Howard'</td>\n",
       "      <td>3125971403</td>\n",
       "      <td>'Classics', 'Fiction', 'Fantasy', 'Childrens',...</td>\n",
       "      <td>A pilot stranded in the desert awakes one morn...</td>\n",
       "      <td>96</td>\n",
       "      <td>1943</td>\n",
       "      <td>English</td>\n",
       "      <td>https://i.gr-assets.com/images/S/compressed.ph...</td>\n",
       "      <td>1609561</td>\n",
       "      <td>4.31</td>\n",
       "    </tr>\n",
       "    <tr>\n",
       "      <th>...</th>\n",
       "      <td>...</td>\n",
       "      <td>...</td>\n",
       "      <td>...</td>\n",
       "      <td>...</td>\n",
       "      <td>...</td>\n",
       "      <td>...</td>\n",
       "      <td>...</td>\n",
       "      <td>...</td>\n",
       "      <td>...</td>\n",
       "      <td>...</td>\n",
       "      <td>...</td>\n",
       "      <td>...</td>\n",
       "    </tr>\n",
       "    <tr>\n",
       "      <th>8426</th>\n",
       "      <td>The Stove-Junker</td>\n",
       "      <td>none</td>\n",
       "      <td>'S.K. Kalsi'</td>\n",
       "      <td>9780990779063</td>\n",
       "      <td>NaN</td>\n",
       "      <td>In the winter of 2012, 79-year-old Somerset Ga...</td>\n",
       "      <td>338</td>\n",
       "      <td>2015</td>\n",
       "      <td>English</td>\n",
       "      <td>https://i.gr-assets.com/images/S/compressed.ph...</td>\n",
       "      <td>23</td>\n",
       "      <td>3.65</td>\n",
       "    </tr>\n",
       "    <tr>\n",
       "      <th>8427</th>\n",
       "      <td>The Treemakers</td>\n",
       "      <td>The Treemakers Trilogy #1</td>\n",
       "      <td>'Christina L. Rozelle'</td>\n",
       "      <td>1508840466</td>\n",
       "      <td>'Science Fiction', 'Dystopia', 'Fantasy', 'You...</td>\n",
       "      <td>This is a previously-published alternate cover...</td>\n",
       "      <td>288</td>\n",
       "      <td>2014</td>\n",
       "      <td>English</td>\n",
       "      <td>https://i.gr-assets.com/images/S/compressed.ph...</td>\n",
       "      <td>535</td>\n",
       "      <td>4.23</td>\n",
       "    </tr>\n",
       "    <tr>\n",
       "      <th>8428</th>\n",
       "      <td>100 Years: A Journey to End a Vicious Cycle</td>\n",
       "      <td>none</td>\n",
       "      <td>'Mark L. Baynard'</td>\n",
       "      <td>9780986138003</td>\n",
       "      <td>NaN</td>\n",
       "      <td>100 Years, A Journey to End a Vicious Cycle is...</td>\n",
       "      <td>290</td>\n",
       "      <td>2015</td>\n",
       "      <td>English</td>\n",
       "      <td>https://i.gr-assets.com/images/S/compressed.ph...</td>\n",
       "      <td>13</td>\n",
       "      <td>4.00</td>\n",
       "    </tr>\n",
       "    <tr>\n",
       "      <th>8429</th>\n",
       "      <td>Thrive: 30 Inspirational Rags-to-Riches Stories</td>\n",
       "      <td>none</td>\n",
       "      <td>'Jason Navallo'</td>\n",
       "      <td>1511503882</td>\n",
       "      <td>'Nonfiction', 'Self Help', 'Inspirational', 'B...</td>\n",
       "      <td>Thrive: 30 Inspirational Rags-to-Riches Storie...</td>\n",
       "      <td>100</td>\n",
       "      <td>2015</td>\n",
       "      <td>English</td>\n",
       "      <td>https://i.gr-assets.com/images/S/compressed.ph...</td>\n",
       "      <td>335</td>\n",
       "      <td>3.89</td>\n",
       "    </tr>\n",
       "    <tr>\n",
       "      <th>8430</th>\n",
       "      <td>The Smoke at Dawn</td>\n",
       "      <td>Civil War: 1861-1865, Western Theater #3</td>\n",
       "      <td>'Jeff Shaara'</td>\n",
       "      <td>9780345527417</td>\n",
       "      <td>'Historical', 'Historical Fiction', 'Military ...</td>\n",
       "      <td>NEW YORK TIMESBESTSELLERJeff Shaara returns to...</td>\n",
       "      <td>495</td>\n",
       "      <td>2014</td>\n",
       "      <td>English</td>\n",
       "      <td>https://i.gr-assets.com/images/S/compressed.ph...</td>\n",
       "      <td>2365</td>\n",
       "      <td>4.26</td>\n",
       "    </tr>\n",
       "  </tbody>\n",
       "</table>\n",
       "<p>8431 rows × 12 columns</p>\n",
       "</div>"
      ],
      "text/plain": [
       "                                                title  \\\n",
       "0                               To Kill a Mockingbird   \n",
       "1               Harry Potter and the Sorcerer's Stone   \n",
       "2                           The Diary of a Young Girl   \n",
       "3                                         Animal Farm   \n",
       "4                                   The Little Prince   \n",
       "...                                               ...   \n",
       "8426                                 The Stove-Junker   \n",
       "8427                                   The Treemakers   \n",
       "8428      100 Years: A Journey to End a Vicious Cycle   \n",
       "8429  Thrive: 30 Inspirational Rags-to-Riches Stories   \n",
       "8430                                The Smoke at Dawn   \n",
       "\n",
       "                                        series  \\\n",
       "0                        To Kill a Mockingbird   \n",
       "1                              Harry Potter #1   \n",
       "2                                         none   \n",
       "3                                         none   \n",
       "4                                         none   \n",
       "...                                        ...   \n",
       "8426                                      none   \n",
       "8427                 The Treemakers Trilogy #1   \n",
       "8428                                      none   \n",
       "8429                                      none   \n",
       "8430  Civil War: 1861-1865, Western Theater #3   \n",
       "\n",
       "                                                authors           isbn  \\\n",
       "0                                          'Harper Lee'     1439550417   \n",
       "1                                        'J.K. Rowling'              0   \n",
       "2     'Anne Frank', 'Eleanor Roosevelt', 'Barbara Mo...      330107372   \n",
       "3     'George Orwell', 'Russell Baker', 'C.M. Woodho...  9780451526342   \n",
       "4          'Antoine de Saint-Exupéry', 'Richard Howard'     3125971403   \n",
       "...                                                 ...            ...   \n",
       "8426                                       'S.K. Kalsi'  9780990779063   \n",
       "8427                             'Christina L. Rozelle'     1508840466   \n",
       "8428                                  'Mark L. Baynard'  9780986138003   \n",
       "8429                                    'Jason Navallo'     1511503882   \n",
       "8430                                      'Jeff Shaara'  9780345527417   \n",
       "\n",
       "                                                 genres  \\\n",
       "0     'Classics', 'Fiction', 'Historical', 'Historic...   \n",
       "1     'Fantasy', 'Fiction', 'Young Adult', 'Magic', ...   \n",
       "2     'Nonfiction', 'Classics', 'History', 'Biograph...   \n",
       "3     'Classics', 'Fiction', 'Science Fiction', 'Dys...   \n",
       "4     'Classics', 'Fiction', 'Fantasy', 'Childrens',...   \n",
       "...                                                 ...   \n",
       "8426                                                NaN   \n",
       "8427  'Science Fiction', 'Dystopia', 'Fantasy', 'You...   \n",
       "8428                                                NaN   \n",
       "8429  'Nonfiction', 'Self Help', 'Inspirational', 'B...   \n",
       "8430  'Historical', 'Historical Fiction', 'Military ...   \n",
       "\n",
       "                                            description  pages  year language  \\\n",
       "0     The unforgettable novel of a childhood in a sl...    324  1960  English   \n",
       "1     Harry Potter's life is miserable. His parents ...    309  1997  English   \n",
       "2     Discovered in the attic in which she spent the...    283  1947  English   \n",
       "3     Librarian's note: There is an Alternate Cover ...    141  1945  English   \n",
       "4     A pilot stranded in the desert awakes one morn...     96  1943  English   \n",
       "...                                                 ...    ...   ...      ...   \n",
       "8426  In the winter of 2012, 79-year-old Somerset Ga...    338  2015  English   \n",
       "8427  This is a previously-published alternate cover...    288  2014  English   \n",
       "8428  100 Years, A Journey to End a Vicious Cycle is...    290  2015  English   \n",
       "8429  Thrive: 30 Inspirational Rags-to-Riches Storie...    100  2015  English   \n",
       "8430  NEW YORK TIMESBESTSELLERJeff Shaara returns to...    495  2014  English   \n",
       "\n",
       "                                            cover_image  total_number_ratings  \\\n",
       "0     https://i.gr-assets.com/images/S/compressed.ph...               5011381   \n",
       "1     https://i.gr-assets.com/images/S/compressed.ph...               8003482   \n",
       "2     https://i.gr-assets.com/images/S/compressed.ph...               3088199   \n",
       "3     https://i.gr-assets.com/images/S/compressed.ph...               3095756   \n",
       "4     https://i.gr-assets.com/images/S/compressed.ph...               1609561   \n",
       "...                                                 ...                   ...   \n",
       "8426  https://i.gr-assets.com/images/S/compressed.ph...                    23   \n",
       "8427  https://i.gr-assets.com/images/S/compressed.ph...                   535   \n",
       "8428  https://i.gr-assets.com/images/S/compressed.ph...                    13   \n",
       "8429  https://i.gr-assets.com/images/S/compressed.ph...                   335   \n",
       "8430  https://i.gr-assets.com/images/S/compressed.ph...                  2365   \n",
       "\n",
       "      average_rating  \n",
       "0               4.27  \n",
       "1               4.47  \n",
       "2               4.16  \n",
       "3               3.97  \n",
       "4               4.31  \n",
       "...              ...  \n",
       "8426            3.65  \n",
       "8427            4.23  \n",
       "8428            4.00  \n",
       "8429            3.89  \n",
       "8430            4.26  \n",
       "\n",
       "[8431 rows x 12 columns]"
      ]
     },
     "execution_count": 73,
     "metadata": {},
     "output_type": "execute_result"
    }
   ],
   "source": [
    "cleaningdata"
   ]
  },
  {
   "cell_type": "markdown",
   "id": "d036621c",
   "metadata": {},
   "source": [
    "## Clean column \"pages\""
   ]
  },
  {
   "cell_type": "code",
   "execution_count": 81,
   "id": "bef9fd94",
   "metadata": {},
   "outputs": [
    {
     "data": {
      "text/plain": [
       "0       348\n",
       "320     116\n",
       "288     112\n",
       "240      96\n",
       "352      95\n",
       "       ... \n",
       "971       1\n",
       "963       1\n",
       "947       1\n",
       "939       1\n",
       "1559      1\n",
       "Name: pages, Length: 961, dtype: int64"
      ]
     },
     "execution_count": 81,
     "metadata": {},
     "output_type": "execute_result"
    }
   ],
   "source": [
    "cleaningdata['pages'].value_counts()"
   ]
  },
  {
   "cell_type": "code",
   "execution_count": 82,
   "id": "28c5f8b0",
   "metadata": {},
   "outputs": [
    {
     "data": {
      "text/html": [
       "<div>\n",
       "<style scoped>\n",
       "    .dataframe tbody tr th:only-of-type {\n",
       "        vertical-align: middle;\n",
       "    }\n",
       "\n",
       "    .dataframe tbody tr th {\n",
       "        vertical-align: top;\n",
       "    }\n",
       "\n",
       "    .dataframe thead th {\n",
       "        text-align: right;\n",
       "    }\n",
       "</style>\n",
       "<table border=\"1\" class=\"dataframe\">\n",
       "  <thead>\n",
       "    <tr style=\"text-align: right;\">\n",
       "      <th></th>\n",
       "      <th>title</th>\n",
       "      <th>series</th>\n",
       "      <th>authors</th>\n",
       "      <th>isbn</th>\n",
       "      <th>genres</th>\n",
       "      <th>description</th>\n",
       "      <th>pages</th>\n",
       "      <th>year</th>\n",
       "      <th>language</th>\n",
       "      <th>cover_image</th>\n",
       "      <th>total_number_ratings</th>\n",
       "      <th>average_rating</th>\n",
       "    </tr>\n",
       "  </thead>\n",
       "  <tbody>\n",
       "  </tbody>\n",
       "</table>\n",
       "</div>"
      ],
      "text/plain": [
       "Empty DataFrame\n",
       "Columns: [title, series, authors, isbn, genres, description, pages, year, language, cover_image, total_number_ratings, average_rating]\n",
       "Index: []"
      ]
     },
     "execution_count": 82,
     "metadata": {},
     "output_type": "execute_result"
    }
   ],
   "source": [
    "cleaningdata[cleaningdata['pages'].isna()==True] "
   ]
  },
  {
   "cell_type": "code",
   "execution_count": 83,
   "id": "804f4ad9",
   "metadata": {},
   "outputs": [
    {
     "data": {
      "text/plain": [
       "0"
      ]
     },
     "execution_count": 83,
     "metadata": {},
     "output_type": "execute_result"
    }
   ],
   "source": [
    "cleaningdata['pages'] = cleaningdata['pages'].fillna('0')\n",
    "cleaningdata['pages'].isna().sum()"
   ]
  },
  {
   "cell_type": "markdown",
   "id": "96f278f1",
   "metadata": {},
   "source": [
    "## Clean column \"total_numer_ratings\""
   ]
  },
  {
   "cell_type": "code",
   "execution_count": 84,
   "id": "2d4a8354",
   "metadata": {},
   "outputs": [
    {
     "data": {
      "text/plain": [
       "2        62\n",
       "6        58\n",
       "3        55\n",
       "1        46\n",
       "4        46\n",
       "         ..\n",
       "77263     1\n",
       "9678      1\n",
       "30156     1\n",
       "7625      1\n",
       "83967     1\n",
       "Name: total_number_ratings, Length: 6371, dtype: int64"
      ]
     },
     "execution_count": 84,
     "metadata": {},
     "output_type": "execute_result"
    }
   ],
   "source": [
    "cleaningdata['total_number_ratings'].value_counts()"
   ]
  },
  {
   "cell_type": "code",
   "execution_count": 85,
   "id": "5651bc3b",
   "metadata": {},
   "outputs": [
    {
     "data": {
      "text/plain": [
       "0"
      ]
     },
     "execution_count": 85,
     "metadata": {},
     "output_type": "execute_result"
    }
   ],
   "source": [
    "cleaningdata['total_number_ratings'].isna().sum()"
   ]
  },
  {
   "cell_type": "code",
   "execution_count": 86,
   "id": "1b50c6be",
   "metadata": {
    "scrolled": true
   },
   "outputs": [
    {
     "data": {
      "text/html": [
       "<div>\n",
       "<style scoped>\n",
       "    .dataframe tbody tr th:only-of-type {\n",
       "        vertical-align: middle;\n",
       "    }\n",
       "\n",
       "    .dataframe tbody tr th {\n",
       "        vertical-align: top;\n",
       "    }\n",
       "\n",
       "    .dataframe thead th {\n",
       "        text-align: right;\n",
       "    }\n",
       "</style>\n",
       "<table border=\"1\" class=\"dataframe\">\n",
       "  <thead>\n",
       "    <tr style=\"text-align: right;\">\n",
       "      <th></th>\n",
       "      <th>title</th>\n",
       "      <th>series</th>\n",
       "      <th>authors</th>\n",
       "      <th>isbn</th>\n",
       "      <th>genres</th>\n",
       "      <th>description</th>\n",
       "      <th>pages</th>\n",
       "      <th>year</th>\n",
       "      <th>language</th>\n",
       "      <th>cover_image</th>\n",
       "      <th>total_number_ratings</th>\n",
       "      <th>average_rating</th>\n",
       "    </tr>\n",
       "  </thead>\n",
       "  <tbody>\n",
       "  </tbody>\n",
       "</table>\n",
       "</div>"
      ],
      "text/plain": [
       "Empty DataFrame\n",
       "Columns: [title, series, authors, isbn, genres, description, pages, year, language, cover_image, total_number_ratings, average_rating]\n",
       "Index: []"
      ]
     },
     "execution_count": 86,
     "metadata": {},
     "output_type": "execute_result"
    }
   ],
   "source": [
    "cleaningdata[cleaningdata['total_number_ratings']=='0']"
   ]
  },
  {
   "cell_type": "markdown",
   "id": "67bc1125",
   "metadata": {},
   "source": [
    "### Generalize spelling in column - remove all ','"
   ]
  },
  {
   "cell_type": "code",
   "execution_count": 87,
   "id": "351e15b1",
   "metadata": {},
   "outputs": [],
   "source": [
    "funct.replace_in_column(cleaningdata,\"authors\",\",\",'')"
   ]
  },
  {
   "cell_type": "markdown",
   "id": "2fe18201",
   "metadata": {},
   "source": [
    "### Change data type of column to numerical"
   ]
  },
  {
   "cell_type": "code",
   "execution_count": 88,
   "id": "8f9f83e3",
   "metadata": {},
   "outputs": [],
   "source": [
    "funct.convert_data_types(cleaningdata,'number', incolumns=['total_number_ratings'])"
   ]
  },
  {
   "cell_type": "markdown",
   "id": "0a70ceac",
   "metadata": {},
   "source": [
    "## Clean column \"average_rating\""
   ]
  },
  {
   "cell_type": "code",
   "execution_count": 89,
   "id": "68e31be2",
   "metadata": {},
   "outputs": [
    {
     "data": {
      "text/plain": [
       "4.00    187\n",
       "4.18    131\n",
       "4.17    130\n",
       "4.13    129\n",
       "4.12    127\n",
       "       ... \n",
       "4.82      1\n",
       "3.06      1\n",
       "2.82      1\n",
       "2.75      1\n",
       "3.04      1\n",
       "Name: average_rating, Length: 211, dtype: int64"
      ]
     },
     "execution_count": 89,
     "metadata": {},
     "output_type": "execute_result"
    }
   ],
   "source": [
    "cleaningdata['average_rating'].value_counts()"
   ]
  },
  {
   "cell_type": "code",
   "execution_count": 90,
   "id": "8550767b",
   "metadata": {},
   "outputs": [
    {
     "data": {
      "text/plain": [
       "0"
      ]
     },
     "execution_count": 90,
     "metadata": {},
     "output_type": "execute_result"
    }
   ],
   "source": [
    "cleaningdata['average_rating'].isna().sum()\n",
    "#cleaningdata[cleaningdata['average_rating'].isna()==True] "
   ]
  },
  {
   "cell_type": "markdown",
   "id": "6c437a23",
   "metadata": {},
   "source": [
    "## Clean column \"isbn\""
   ]
  },
  {
   "cell_type": "markdown",
   "id": "246abcc9",
   "metadata": {},
   "source": [
    "### Remove null values"
   ]
  },
  {
   "cell_type": "code",
   "execution_count": 91,
   "id": "0fead171",
   "metadata": {},
   "outputs": [],
   "source": [
    "cleaningdata['isbn'] = cleaningdata['isbn'].fillna('0')"
   ]
  },
  {
   "cell_type": "code",
   "execution_count": 92,
   "id": "4bd8b84d",
   "metadata": {},
   "outputs": [
    {
     "data": {
      "text/html": [
       "<div>\n",
       "<style scoped>\n",
       "    .dataframe tbody tr th:only-of-type {\n",
       "        vertical-align: middle;\n",
       "    }\n",
       "\n",
       "    .dataframe tbody tr th {\n",
       "        vertical-align: top;\n",
       "    }\n",
       "\n",
       "    .dataframe thead th {\n",
       "        text-align: right;\n",
       "    }\n",
       "</style>\n",
       "<table border=\"1\" class=\"dataframe\">\n",
       "  <thead>\n",
       "    <tr style=\"text-align: right;\">\n",
       "      <th></th>\n",
       "      <th>title</th>\n",
       "      <th>series</th>\n",
       "      <th>authors</th>\n",
       "      <th>isbn</th>\n",
       "      <th>genres</th>\n",
       "      <th>description</th>\n",
       "      <th>pages</th>\n",
       "      <th>year</th>\n",
       "      <th>language</th>\n",
       "      <th>cover_image</th>\n",
       "      <th>total_number_ratings</th>\n",
       "      <th>average_rating</th>\n",
       "    </tr>\n",
       "  </thead>\n",
       "  <tbody>\n",
       "  </tbody>\n",
       "</table>\n",
       "</div>"
      ],
      "text/plain": [
       "Empty DataFrame\n",
       "Columns: [title, series, authors, isbn, genres, description, pages, year, language, cover_image, total_number_ratings, average_rating]\n",
       "Index: []"
      ]
     },
     "execution_count": 92,
     "metadata": {},
     "output_type": "execute_result"
    }
   ],
   "source": [
    "cleaningdata[cleaningdata['isbn'].isna()==True] "
   ]
  },
  {
   "cell_type": "code",
   "execution_count": 93,
   "id": "d6b6988a",
   "metadata": {},
   "outputs": [
    {
     "data": {
      "text/plain": [
       "title                                            We Are Bridges: A Memoir\n",
       "series                                                               none\n",
       "authors                                                    Cassandra Lane\n",
       "isbn                                                        9781952177927\n",
       "genres                            'Autobiography', 'Memoir', 'Nonfiction'\n",
       "description             \"In this evocative memoir, Cassandra Lane deft...\n",
       "pages                                                                 232\n",
       "year                                                                 2021\n",
       "language                                                          English\n",
       "cover_image             https://i.gr-assets.com/images/S/compressed.ph...\n",
       "total_number_ratings                                                   45\n",
       "average_rating                                                        4.2\n",
       "Name: 3456, dtype: object"
      ]
     },
     "execution_count": 93,
     "metadata": {},
     "output_type": "execute_result"
    }
   ],
   "source": [
    "cleaningdata.loc[3456,:]"
   ]
  },
  {
   "cell_type": "markdown",
   "id": "2c0f30f3",
   "metadata": {},
   "source": [
    "### Remove the .0 in the column"
   ]
  },
  {
   "cell_type": "code",
   "execution_count": 94,
   "id": "a57f62d0",
   "metadata": {},
   "outputs": [],
   "source": [
    "cleaningdata['isbn'] = cleaningdata['isbn'].astype(str).apply(lambda x: x.replace('.0',''))"
   ]
  },
  {
   "cell_type": "code",
   "execution_count": 95,
   "id": "e0d3eeee",
   "metadata": {},
   "outputs": [],
   "source": [
    "funct.convert_data_types(cleaningdata,'number', incolumns=['isbn'])"
   ]
  },
  {
   "cell_type": "code",
   "execution_count": 96,
   "id": "79e19bf2",
   "metadata": {},
   "outputs": [
    {
     "data": {
      "text/plain": [
       "dtype('int64')"
      ]
     },
     "execution_count": 96,
     "metadata": {},
     "output_type": "execute_result"
    }
   ],
   "source": [
    "cleaningdata['isbn'].dtypes"
   ]
  },
  {
   "cell_type": "code",
   "execution_count": null,
   "id": "a928c70b",
   "metadata": {},
   "outputs": [],
   "source": [
    "#Checking isbns: aLL with isbn13 (digits13) and then all with digits 10 isbn 10 -open"
   ]
  },
  {
   "cell_type": "code",
   "execution_count": null,
   "id": "691e7640",
   "metadata": {},
   "outputs": [],
   "source": [
    "#remove duplicates? -open\n",
    "duplicateRowsDF = cleaningdata[cleaningdata.duplicated(['title'],keep=False)]\n",
    "duplicateRowsDF"
   ]
  },
  {
   "cell_type": "markdown",
   "id": "3081eeb9",
   "metadata": {},
   "source": [
    "## Clean column year"
   ]
  },
  {
   "cell_type": "markdown",
   "id": "6db072f1",
   "metadata": {},
   "source": [
    "### Check value counts"
   ]
  },
  {
   "cell_type": "code",
   "execution_count": 97,
   "id": "7192c5ab",
   "metadata": {},
   "outputs": [
    {
     "data": {
      "text/plain": [
       "2013    570\n",
       "2012    567\n",
       "2014    529\n",
       "2011    442\n",
       "2015    296\n",
       "       ... \n",
       "1824      1\n",
       "1877      1\n",
       "1074      1\n",
       "1767      1\n",
       "1635      1\n",
       "Name: year, Length: 323, dtype: int64"
      ]
     },
     "execution_count": 97,
     "metadata": {},
     "output_type": "execute_result"
    }
   ],
   "source": [
    "#df[(x <= df['columnX']) & (df['columnX'] <= y)]\n",
    "cleaningdata['year'].value_counts()"
   ]
  },
  {
   "cell_type": "code",
   "execution_count": 31,
   "id": "5f2d9bb2",
   "metadata": {},
   "outputs": [],
   "source": [
    "cleaningdata.to_csv(r'DataFinal\\DataCleaningbeforecateorigcal.csv')"
   ]
  },
  {
   "cell_type": "markdown",
   "id": "3940cf2e",
   "metadata": {},
   "source": [
    "### Change datatype"
   ]
  },
  {
   "cell_type": "code",
   "execution_count": 29,
   "id": "f47dc86d",
   "metadata": {},
   "outputs": [
    {
     "ename": "OutOfBoundsDatetime",
     "evalue": "Out of bounds nanosecond timestamp: 1597-01-01 00:00:00",
     "output_type": "error",
     "traceback": [
      "\u001b[1;31m---------------------------------------------------------------------------\u001b[0m",
      "\u001b[1;31mTypeError\u001b[0m                                 Traceback (most recent call last)",
      "\u001b[1;32mc:\\users\\anton\\appdata\\local\\programs\\python\\python39\\lib\\site-packages\\pandas\\core\\arrays\\datetimes.py\u001b[0m in \u001b[0;36mobjects_to_datetime64ns\u001b[1;34m(data, dayfirst, yearfirst, utc, errors, require_iso8601, allow_object)\u001b[0m\n\u001b[0;32m   2084\u001b[0m         \u001b[1;32mtry\u001b[0m\u001b[1;33m:\u001b[0m\u001b[1;33m\u001b[0m\u001b[1;33m\u001b[0m\u001b[0m\n\u001b[1;32m-> 2085\u001b[1;33m             \u001b[0mvalues\u001b[0m\u001b[1;33m,\u001b[0m \u001b[0mtz_parsed\u001b[0m \u001b[1;33m=\u001b[0m \u001b[0mconversion\u001b[0m\u001b[1;33m.\u001b[0m\u001b[0mdatetime_to_datetime64\u001b[0m\u001b[1;33m(\u001b[0m\u001b[0mdata\u001b[0m\u001b[1;33m)\u001b[0m\u001b[1;33m\u001b[0m\u001b[1;33m\u001b[0m\u001b[0m\n\u001b[0m\u001b[0;32m   2086\u001b[0m             \u001b[1;31m# If tzaware, these values represent unix timestamps, so we\u001b[0m\u001b[1;33m\u001b[0m\u001b[1;33m\u001b[0m\u001b[1;33m\u001b[0m\u001b[0m\n",
      "\u001b[1;32mpandas\\_libs\\tslibs\\conversion.pyx\u001b[0m in \u001b[0;36mpandas._libs.tslibs.conversion.datetime_to_datetime64\u001b[1;34m()\u001b[0m\n",
      "\u001b[1;31mTypeError\u001b[0m: Unrecognized value type: <class 'str'>",
      "\nDuring handling of the above exception, another exception occurred:\n",
      "\u001b[1;31mOutOfBoundsDatetime\u001b[0m                       Traceback (most recent call last)",
      "\u001b[1;32m<ipython-input-29-ce8023e77d89>\u001b[0m in \u001b[0;36m<module>\u001b[1;34m\u001b[0m\n\u001b[1;32m----> 1\u001b[1;33m \u001b[0mfunct\u001b[0m\u001b[1;33m.\u001b[0m\u001b[0mconvert_data_types\u001b[0m\u001b[1;33m(\u001b[0m\u001b[0mcleaningdata\u001b[0m\u001b[1;33m,\u001b[0m \u001b[1;34m'date'\u001b[0m\u001b[1;33m,\u001b[0m \u001b[0mincolumns\u001b[0m\u001b[1;33m=\u001b[0m\u001b[1;33m[\u001b[0m\u001b[1;34m'year'\u001b[0m\u001b[1;33m]\u001b[0m\u001b[1;33m)\u001b[0m\u001b[1;33m\u001b[0m\u001b[1;33m\u001b[0m\u001b[0m\n\u001b[0m",
      "\u001b[1;32m~\\Ironhack\\Final Project\\Functions_Books.py\u001b[0m in \u001b[0;36mconvert_data_types\u001b[1;34m(df, convertto, incolumns)\u001b[0m\n\u001b[0;32m     40\u001b[0m             \u001b[0mdf\u001b[0m\u001b[1;33m[\u001b[0m\u001b[0mcolumn\u001b[0m\u001b[1;33m]\u001b[0m\u001b[1;33m=\u001b[0m\u001b[0mdf\u001b[0m\u001b[1;33m[\u001b[0m\u001b[0mcolumn\u001b[0m\u001b[1;33m]\u001b[0m\u001b[1;33m.\u001b[0m\u001b[0mastype\u001b[0m\u001b[1;33m(\u001b[0m\u001b[1;34m'object'\u001b[0m\u001b[1;33m)\u001b[0m\u001b[1;33m\u001b[0m\u001b[1;33m\u001b[0m\u001b[0m\n\u001b[0;32m     41\u001b[0m         \u001b[1;32melif\u001b[0m \u001b[0mconvertto\u001b[0m \u001b[1;33m==\u001b[0m \u001b[1;34m\"date\"\u001b[0m\u001b[1;33m:\u001b[0m\u001b[1;33m\u001b[0m\u001b[1;33m\u001b[0m\u001b[0m\n\u001b[1;32m---> 42\u001b[1;33m             \u001b[0mdf\u001b[0m\u001b[1;33m[\u001b[0m\u001b[0mcolumn\u001b[0m\u001b[1;33m]\u001b[0m\u001b[1;33m=\u001b[0m\u001b[0mpd\u001b[0m\u001b[1;33m.\u001b[0m\u001b[0mto_datetime\u001b[0m\u001b[1;33m(\u001b[0m\u001b[0mdf\u001b[0m\u001b[1;33m[\u001b[0m\u001b[0mcolumn\u001b[0m\u001b[1;33m]\u001b[0m\u001b[1;33m)\u001b[0m\u001b[1;33m\u001b[0m\u001b[1;33m\u001b[0m\u001b[0m\n\u001b[0m\u001b[0;32m     43\u001b[0m         \u001b[1;32melif\u001b[0m \u001b[0mconvertto\u001b[0m \u001b[1;33m==\u001b[0m \u001b[1;34m\"number\"\u001b[0m\u001b[1;33m:\u001b[0m\u001b[1;33m\u001b[0m\u001b[1;33m\u001b[0m\u001b[0m\n\u001b[0;32m     44\u001b[0m             \u001b[0mdf\u001b[0m\u001b[1;33m[\u001b[0m\u001b[0mcolumn\u001b[0m\u001b[1;33m]\u001b[0m\u001b[1;33m=\u001b[0m\u001b[0mpd\u001b[0m\u001b[1;33m.\u001b[0m\u001b[0mto_numeric\u001b[0m\u001b[1;33m(\u001b[0m\u001b[0mdf\u001b[0m\u001b[1;33m[\u001b[0m\u001b[0mcolumn\u001b[0m\u001b[1;33m]\u001b[0m\u001b[1;33m)\u001b[0m\u001b[1;33m\u001b[0m\u001b[1;33m\u001b[0m\u001b[0m\n",
      "\u001b[1;32mc:\\users\\anton\\appdata\\local\\programs\\python\\python39\\lib\\site-packages\\pandas\\core\\tools\\datetimes.py\u001b[0m in \u001b[0;36mto_datetime\u001b[1;34m(arg, errors, dayfirst, yearfirst, utc, format, exact, unit, infer_datetime_format, origin, cache)\u001b[0m\n\u001b[0;32m    799\u001b[0m                 \u001b[0mresult\u001b[0m \u001b[1;33m=\u001b[0m \u001b[0mresult\u001b[0m\u001b[1;33m.\u001b[0m\u001b[0mtz_localize\u001b[0m\u001b[1;33m(\u001b[0m\u001b[0mtz\u001b[0m\u001b[1;33m)\u001b[0m\u001b[1;33m\u001b[0m\u001b[1;33m\u001b[0m\u001b[0m\n\u001b[0;32m    800\u001b[0m     \u001b[1;32melif\u001b[0m \u001b[0misinstance\u001b[0m\u001b[1;33m(\u001b[0m\u001b[0marg\u001b[0m\u001b[1;33m,\u001b[0m \u001b[0mABCSeries\u001b[0m\u001b[1;33m)\u001b[0m\u001b[1;33m:\u001b[0m\u001b[1;33m\u001b[0m\u001b[1;33m\u001b[0m\u001b[0m\n\u001b[1;32m--> 801\u001b[1;33m         \u001b[0mcache_array\u001b[0m \u001b[1;33m=\u001b[0m \u001b[0m_maybe_cache\u001b[0m\u001b[1;33m(\u001b[0m\u001b[0marg\u001b[0m\u001b[1;33m,\u001b[0m \u001b[0mformat\u001b[0m\u001b[1;33m,\u001b[0m \u001b[0mcache\u001b[0m\u001b[1;33m,\u001b[0m \u001b[0mconvert_listlike\u001b[0m\u001b[1;33m)\u001b[0m\u001b[1;33m\u001b[0m\u001b[1;33m\u001b[0m\u001b[0m\n\u001b[0m\u001b[0;32m    802\u001b[0m         \u001b[1;32mif\u001b[0m \u001b[1;32mnot\u001b[0m \u001b[0mcache_array\u001b[0m\u001b[1;33m.\u001b[0m\u001b[0mempty\u001b[0m\u001b[1;33m:\u001b[0m\u001b[1;33m\u001b[0m\u001b[1;33m\u001b[0m\u001b[0m\n\u001b[0;32m    803\u001b[0m             \u001b[0mresult\u001b[0m \u001b[1;33m=\u001b[0m \u001b[0marg\u001b[0m\u001b[1;33m.\u001b[0m\u001b[0mmap\u001b[0m\u001b[1;33m(\u001b[0m\u001b[0mcache_array\u001b[0m\u001b[1;33m)\u001b[0m\u001b[1;33m\u001b[0m\u001b[1;33m\u001b[0m\u001b[0m\n",
      "\u001b[1;32mc:\\users\\anton\\appdata\\local\\programs\\python\\python39\\lib\\site-packages\\pandas\\core\\tools\\datetimes.py\u001b[0m in \u001b[0;36m_maybe_cache\u001b[1;34m(arg, format, cache, convert_listlike)\u001b[0m\n\u001b[0;32m    176\u001b[0m         \u001b[0munique_dates\u001b[0m \u001b[1;33m=\u001b[0m \u001b[0munique\u001b[0m\u001b[1;33m(\u001b[0m\u001b[0marg\u001b[0m\u001b[1;33m)\u001b[0m\u001b[1;33m\u001b[0m\u001b[1;33m\u001b[0m\u001b[0m\n\u001b[0;32m    177\u001b[0m         \u001b[1;32mif\u001b[0m \u001b[0mlen\u001b[0m\u001b[1;33m(\u001b[0m\u001b[0munique_dates\u001b[0m\u001b[1;33m)\u001b[0m \u001b[1;33m<\u001b[0m \u001b[0mlen\u001b[0m\u001b[1;33m(\u001b[0m\u001b[0marg\u001b[0m\u001b[1;33m)\u001b[0m\u001b[1;33m:\u001b[0m\u001b[1;33m\u001b[0m\u001b[1;33m\u001b[0m\u001b[0m\n\u001b[1;32m--> 178\u001b[1;33m             \u001b[0mcache_dates\u001b[0m \u001b[1;33m=\u001b[0m \u001b[0mconvert_listlike\u001b[0m\u001b[1;33m(\u001b[0m\u001b[0munique_dates\u001b[0m\u001b[1;33m,\u001b[0m \u001b[0mformat\u001b[0m\u001b[1;33m)\u001b[0m\u001b[1;33m\u001b[0m\u001b[1;33m\u001b[0m\u001b[0m\n\u001b[0m\u001b[0;32m    179\u001b[0m             \u001b[0mcache_array\u001b[0m \u001b[1;33m=\u001b[0m \u001b[0mSeries\u001b[0m\u001b[1;33m(\u001b[0m\u001b[0mcache_dates\u001b[0m\u001b[1;33m,\u001b[0m \u001b[0mindex\u001b[0m\u001b[1;33m=\u001b[0m\u001b[0munique_dates\u001b[0m\u001b[1;33m)\u001b[0m\u001b[1;33m\u001b[0m\u001b[1;33m\u001b[0m\u001b[0m\n\u001b[0;32m    180\u001b[0m     \u001b[1;32mreturn\u001b[0m \u001b[0mcache_array\u001b[0m\u001b[1;33m\u001b[0m\u001b[1;33m\u001b[0m\u001b[0m\n",
      "\u001b[1;32mc:\\users\\anton\\appdata\\local\\programs\\python\\python39\\lib\\site-packages\\pandas\\core\\tools\\datetimes.py\u001b[0m in \u001b[0;36m_convert_listlike_datetimes\u001b[1;34m(arg, format, name, tz, unit, errors, infer_datetime_format, dayfirst, yearfirst, exact)\u001b[0m\n\u001b[0;32m    463\u001b[0m         \u001b[1;32massert\u001b[0m \u001b[0mformat\u001b[0m \u001b[1;32mis\u001b[0m \u001b[1;32mNone\u001b[0m \u001b[1;32mor\u001b[0m \u001b[0minfer_datetime_format\u001b[0m\u001b[1;33m\u001b[0m\u001b[1;33m\u001b[0m\u001b[0m\n\u001b[0;32m    464\u001b[0m         \u001b[0mutc\u001b[0m \u001b[1;33m=\u001b[0m \u001b[0mtz\u001b[0m \u001b[1;33m==\u001b[0m \u001b[1;34m\"utc\"\u001b[0m\u001b[1;33m\u001b[0m\u001b[1;33m\u001b[0m\u001b[0m\n\u001b[1;32m--> 465\u001b[1;33m         result, tz_parsed = objects_to_datetime64ns(\n\u001b[0m\u001b[0;32m    466\u001b[0m             \u001b[0marg\u001b[0m\u001b[1;33m,\u001b[0m\u001b[1;33m\u001b[0m\u001b[1;33m\u001b[0m\u001b[0m\n\u001b[0;32m    467\u001b[0m             \u001b[0mdayfirst\u001b[0m\u001b[1;33m=\u001b[0m\u001b[0mdayfirst\u001b[0m\u001b[1;33m,\u001b[0m\u001b[1;33m\u001b[0m\u001b[1;33m\u001b[0m\u001b[0m\n",
      "\u001b[1;32mc:\\users\\anton\\appdata\\local\\programs\\python\\python39\\lib\\site-packages\\pandas\\core\\arrays\\datetimes.py\u001b[0m in \u001b[0;36mobjects_to_datetime64ns\u001b[1;34m(data, dayfirst, yearfirst, utc, errors, require_iso8601, allow_object)\u001b[0m\n\u001b[0;32m   2088\u001b[0m             \u001b[1;32mreturn\u001b[0m \u001b[0mvalues\u001b[0m\u001b[1;33m.\u001b[0m\u001b[0mview\u001b[0m\u001b[1;33m(\u001b[0m\u001b[1;34m\"i8\"\u001b[0m\u001b[1;33m)\u001b[0m\u001b[1;33m,\u001b[0m \u001b[0mtz_parsed\u001b[0m\u001b[1;33m\u001b[0m\u001b[1;33m\u001b[0m\u001b[0m\n\u001b[0;32m   2089\u001b[0m         \u001b[1;32mexcept\u001b[0m \u001b[1;33m(\u001b[0m\u001b[0mValueError\u001b[0m\u001b[1;33m,\u001b[0m \u001b[0mTypeError\u001b[0m\u001b[1;33m)\u001b[0m\u001b[1;33m:\u001b[0m\u001b[1;33m\u001b[0m\u001b[1;33m\u001b[0m\u001b[0m\n\u001b[1;32m-> 2090\u001b[1;33m             \u001b[1;32mraise\u001b[0m \u001b[0me\u001b[0m\u001b[1;33m\u001b[0m\u001b[1;33m\u001b[0m\u001b[0m\n\u001b[0m\u001b[0;32m   2091\u001b[0m \u001b[1;33m\u001b[0m\u001b[0m\n\u001b[0;32m   2092\u001b[0m     \u001b[1;32mif\u001b[0m \u001b[0mtz_parsed\u001b[0m \u001b[1;32mis\u001b[0m \u001b[1;32mnot\u001b[0m \u001b[1;32mNone\u001b[0m\u001b[1;33m:\u001b[0m\u001b[1;33m\u001b[0m\u001b[1;33m\u001b[0m\u001b[0m\n",
      "\u001b[1;32mc:\\users\\anton\\appdata\\local\\programs\\python\\python39\\lib\\site-packages\\pandas\\core\\arrays\\datetimes.py\u001b[0m in \u001b[0;36mobjects_to_datetime64ns\u001b[1;34m(data, dayfirst, yearfirst, utc, errors, require_iso8601, allow_object)\u001b[0m\n\u001b[0;32m   2073\u001b[0m \u001b[1;33m\u001b[0m\u001b[0m\n\u001b[0;32m   2074\u001b[0m     \u001b[1;32mtry\u001b[0m\u001b[1;33m:\u001b[0m\u001b[1;33m\u001b[0m\u001b[1;33m\u001b[0m\u001b[0m\n\u001b[1;32m-> 2075\u001b[1;33m         result, tz_parsed = tslib.array_to_datetime(\n\u001b[0m\u001b[0;32m   2076\u001b[0m             \u001b[0mdata\u001b[0m\u001b[1;33m,\u001b[0m\u001b[1;33m\u001b[0m\u001b[1;33m\u001b[0m\u001b[0m\n\u001b[0;32m   2077\u001b[0m             \u001b[0merrors\u001b[0m\u001b[1;33m=\u001b[0m\u001b[0merrors\u001b[0m\u001b[1;33m,\u001b[0m\u001b[1;33m\u001b[0m\u001b[1;33m\u001b[0m\u001b[0m\n",
      "\u001b[1;32mpandas\\_libs\\tslib.pyx\u001b[0m in \u001b[0;36mpandas._libs.tslib.array_to_datetime\u001b[1;34m()\u001b[0m\n",
      "\u001b[1;32mpandas\\_libs\\tslib.pyx\u001b[0m in \u001b[0;36mpandas._libs.tslib.array_to_datetime\u001b[1;34m()\u001b[0m\n",
      "\u001b[1;32mpandas\\_libs\\tslib.pyx\u001b[0m in \u001b[0;36mpandas._libs.tslib.array_to_datetime\u001b[1;34m()\u001b[0m\n",
      "\u001b[1;32mpandas\\_libs\\tslib.pyx\u001b[0m in \u001b[0;36mpandas._libs.tslib.array_to_datetime\u001b[1;34m()\u001b[0m\n",
      "\u001b[1;32mpandas\\_libs\\tslibs\\np_datetime.pyx\u001b[0m in \u001b[0;36mpandas._libs.tslibs.np_datetime.check_dts_bounds\u001b[1;34m()\u001b[0m\n",
      "\u001b[1;31mOutOfBoundsDatetime\u001b[0m: Out of bounds nanosecond timestamp: 1597-01-01 00:00:00"
     ]
    }
   ],
   "source": [
    "#funct.convert_data_types(cleaningdata, 'date', incolumns=['year']) -open"
   ]
  },
  {
   "cell_type": "markdown",
   "id": "9913fbba",
   "metadata": {},
   "source": [
    "## Clean column Series"
   ]
  },
  {
   "cell_type": "markdown",
   "id": "5f423211",
   "metadata": {},
   "source": [
    "A lot of empty data, as not all books are part of a series"
   ]
  },
  {
   "cell_type": "code",
   "execution_count": 98,
   "id": "11fd57f5",
   "metadata": {},
   "outputs": [],
   "source": [
    "cleaningdata['series'] = cleaningdata['series'].astype(str).apply(lambda x: x.replace('[',''))"
   ]
  },
  {
   "cell_type": "code",
   "execution_count": 99,
   "id": "2d31eea1",
   "metadata": {},
   "outputs": [],
   "source": [
    "cleaningdata['series'] = cleaningdata['series'].astype(str).apply(lambda x: x.replace(']',''))"
   ]
  },
  {
   "cell_type": "code",
   "execution_count": 100,
   "id": "d9d65942",
   "metadata": {},
   "outputs": [],
   "source": [
    "cleaningdata['series'] = cleaningdata['series'].astype(str).apply(lambda x: x.replace(\"'\",''))"
   ]
  },
  {
   "cell_type": "code",
   "execution_count": 101,
   "id": "315a53f4",
   "metadata": {},
   "outputs": [],
   "source": [
    "funct.replace_in_column(cleaningdata,'series','nan','none')"
   ]
  },
  {
   "cell_type": "code",
   "execution_count": 102,
   "id": "4c647354",
   "metadata": {},
   "outputs": [
    {
     "data": {
      "text/html": [
       "<div>\n",
       "<style scoped>\n",
       "    .dataframe tbody tr th:only-of-type {\n",
       "        vertical-align: middle;\n",
       "    }\n",
       "\n",
       "    .dataframe tbody tr th {\n",
       "        vertical-align: top;\n",
       "    }\n",
       "\n",
       "    .dataframe thead th {\n",
       "        text-align: right;\n",
       "    }\n",
       "</style>\n",
       "<table border=\"1\" class=\"dataframe\">\n",
       "  <thead>\n",
       "    <tr style=\"text-align: right;\">\n",
       "      <th></th>\n",
       "      <th>title</th>\n",
       "      <th>series</th>\n",
       "      <th>authors</th>\n",
       "      <th>isbn</th>\n",
       "      <th>genres</th>\n",
       "      <th>description</th>\n",
       "      <th>pages</th>\n",
       "      <th>year</th>\n",
       "      <th>language</th>\n",
       "      <th>cover_image</th>\n",
       "      <th>total_number_ratings</th>\n",
       "      <th>average_rating</th>\n",
       "    </tr>\n",
       "  </thead>\n",
       "  <tbody>\n",
       "  </tbody>\n",
       "</table>\n",
       "</div>"
      ],
      "text/plain": [
       "Empty DataFrame\n",
       "Columns: [title, series, authors, isbn, genres, description, pages, year, language, cover_image, total_number_ratings, average_rating]\n",
       "Index: []"
      ]
     },
     "execution_count": 102,
     "metadata": {},
     "output_type": "execute_result"
    }
   ],
   "source": [
    "cleaningdata[cleaningdata['series'].isna()==True] "
   ]
  },
  {
   "cell_type": "code",
   "execution_count": 103,
   "id": "119df7b0",
   "metadata": {},
   "outputs": [
    {
     "data": {
      "text/plain": [
       "none                         5629\n",
       "The Chronicles of Narnia        6\n",
       "James Bond                      5\n",
       "Hainish Cycle                   5\n",
       "Bird Brain                      5\n",
       "                             ... \n",
       "Ravens Shadow #1                1\n",
       "The Raven Cycle #3              1\n",
       "The Bridge Chronicles #1        1\n",
       "Cotton Malone #2                1\n",
       "I Hunt Killers #1               1\n",
       "Name: series, Length: 2690, dtype: int64"
      ]
     },
     "execution_count": 103,
     "metadata": {},
     "output_type": "execute_result"
    }
   ],
   "source": [
    "cleaningdata['series'].value_counts()"
   ]
  },
  {
   "cell_type": "markdown",
   "id": "adf1e03d",
   "metadata": {},
   "source": [
    "## Clean column \"authors\""
   ]
  },
  {
   "cell_type": "code",
   "execution_count": 104,
   "id": "44c6e9ef",
   "metadata": {},
   "outputs": [],
   "source": [
    "cleaningdata['authors'] = cleaningdata['authors'].astype(str).apply(lambda x: x.replace('[',''))"
   ]
  },
  {
   "cell_type": "code",
   "execution_count": 105,
   "id": "5edde224",
   "metadata": {},
   "outputs": [],
   "source": [
    "cleaningdata['authors'] = cleaningdata['authors'].astype(str).apply(lambda x: x.replace(']',''))"
   ]
  },
  {
   "cell_type": "code",
   "execution_count": 106,
   "id": "e9a64ff0",
   "metadata": {},
   "outputs": [],
   "source": [
    "funct.replace_in_column(cleaningdata,'authors',\"'\",'')"
   ]
  },
  {
   "cell_type": "code",
   "execution_count": 107,
   "id": "dee69f34",
   "metadata": {},
   "outputs": [
    {
     "data": {
      "text/plain": [
       "Stephen King                                                                   42\n",
       "Terry Pratchett                                                                29\n",
       "David Baldacci                                                                 23\n",
       "Lucian Bane                                                                    21\n",
       "Rick Riordan                                                                   20\n",
       "                                                                               ..\n",
       "Patrick Süskind, John E. Woods                                                  1\n",
       "S.L. Bhyrappa, Vishwas, எஸ்.எல்.பைரப்பா, ಎಸ್.ಎಲ್. ಭೈರಪ್ಪ, ஜெயா வெங்கட்ராமன்     1\n",
       "Vladimir Nabokov, Dmitri Nabokov                                                1\n",
       "Juls Amor                                                                       1\n",
       "Tina Traverse                                                                   1\n",
       "Name: authors, Length: 5932, dtype: int64"
      ]
     },
     "execution_count": 107,
     "metadata": {},
     "output_type": "execute_result"
    }
   ],
   "source": [
    "cleaningdata['authors'].value_counts()"
   ]
  },
  {
   "cell_type": "markdown",
   "id": "db1205f5",
   "metadata": {},
   "source": [
    "## Clean column language"
   ]
  },
  {
   "cell_type": "code",
   "execution_count": 108,
   "id": "6999367f",
   "metadata": {},
   "outputs": [
    {
     "data": {
      "text/plain": [
       "English               7606\n",
       "none                   542\n",
       "Arabic                  55\n",
       "French                  37\n",
       "German                  31\n",
       "Spanish                 29\n",
       "Persian                 17\n",
       "Portuguese              16\n",
       "Dutch                   14\n",
       "Polish                  12\n",
       "Romanian                 7\n",
       "Italian                  7\n",
       "Turkish                  7\n",
       "Indonesian               6\n",
       "Multiple languages       5\n",
       "Swedish                  4\n",
       "Greek                    4\n",
       "Tamil                    3\n",
       "Hindi                    2\n",
       "Malayalam                2\n",
       "Finnish                  2\n",
       "Filipino, Pilipino       2\n",
       "Urdu                     2\n",
       "Russian                  2\n",
       "Ukrainian                2\n",
       "Creek                    1\n",
       "Gujarati                 1\n",
       "Catalan, Valencian       1\n",
       "Serbian                  1\n",
       "Scots                    1\n",
       "Danish                   1\n",
       "Croatian                 1\n",
       "Malay                    1\n",
       "Hungarian                1\n",
       "Tagalog                  1\n",
       "Norwegian                1\n",
       "Bulgarian                1\n",
       "Telugu                   1\n",
       "Japanese                 1\n",
       "Kannada                  1\n",
       "Name: language, dtype: int64"
      ]
     },
     "execution_count": 108,
     "metadata": {},
     "output_type": "execute_result"
    }
   ],
   "source": [
    "cleaningdata['language'].value_counts()"
   ]
  },
  {
   "cell_type": "code",
   "execution_count": 109,
   "id": "da824ebe",
   "metadata": {},
   "outputs": [],
   "source": [
    "cleaningdata['language'] = cleaningdata['language'].astype(str).apply(lambda x: x.replace('Bokmål, Norwegian; Norwegian Bokmål','Norwegian'))"
   ]
  },
  {
   "cell_type": "code",
   "execution_count": 110,
   "id": "d798c7cf",
   "metadata": {},
   "outputs": [],
   "source": [
    "cleaningdata['language'] = cleaningdata['language'].astype(str).apply(lambda x: x.replace('Greek, Modern (1453-)','Greek'))"
   ]
  },
  {
   "cell_type": "code",
   "execution_count": 111,
   "id": "5cd6261a",
   "metadata": {},
   "outputs": [],
   "source": [
    "cleaningdata['language'] = cleaningdata['language'].astype(str).apply(lambda x: x.replace(';',','))"
   ]
  },
  {
   "cell_type": "code",
   "execution_count": 112,
   "id": "550b443f",
   "metadata": {},
   "outputs": [],
   "source": [
    "cleaningdata['language'] = cleaningdata['language'].astype(str).apply(lambda x: x.replace('nan','none'))"
   ]
  },
  {
   "cell_type": "markdown",
   "id": "2aa3fa82",
   "metadata": {},
   "source": [
    "## Clean column 'Genres'"
   ]
  },
  {
   "cell_type": "code",
   "execution_count": 131,
   "id": "ca0e061d",
   "metadata": {},
   "outputs": [
    {
     "data": {
      "text/plain": [
       "none                                                                                                                                                                                873\n",
       "Fiction                                                                                                                                                                              40\n",
       "Fantasy                                                                                                                                                                              32\n",
       "Nonfiction                                                                                                                                                                           20\n",
       "Romance                                                                                                                                                                              20\n",
       "                                                                                                                                                                                   ... \n",
       "Young Adult, Fantasy, Paranormal, Romance, Urban Fantasy, Fiction, Vampires, Supernatural, Angels, Magic                                                                              1\n",
       "Food and Drink, Cookbooks, Cooking, Culinary, New Adult, Adult                                                                                                                        1\n",
       "Plays, Drama, Theatre, LGBT, Fiction, Queer, Classics, Fantasy, Religion, Gay                                                                                                         1\n",
       "Classics, Fiction, Short Stories, Literature, European Literature, Italian Literature, Cultural, Italy, Historical, Medieval, Historical Fiction, 14th Century, Academic, School      1\n",
       "Fiction, Romance, Contemporary, Relationships                                                                                                                                         1\n",
       "Name: genres, Length: 6977, dtype: int64"
      ]
     },
     "execution_count": 131,
     "metadata": {},
     "output_type": "execute_result"
    }
   ],
   "source": [
    "cleaningdata['genres'].value_counts()"
   ]
  },
  {
   "cell_type": "code",
   "execution_count": 137,
   "id": "457722b4",
   "metadata": {},
   "outputs": [],
   "source": [
    "cleaningdata['genres'] = cleaningdata['genres'].astype(str).apply(lambda x: x.replace('[',''))"
   ]
  },
  {
   "cell_type": "code",
   "execution_count": 138,
   "id": "191da804",
   "metadata": {},
   "outputs": [],
   "source": [
    "cleaningdata['genres'] = cleaningdata['genres'].astype(str).apply(lambda x: x.replace(']',''))"
   ]
  },
  {
   "cell_type": "code",
   "execution_count": 139,
   "id": "dbde4e6a",
   "metadata": {},
   "outputs": [],
   "source": [
    "cleaningdata['genres'] = cleaningdata['genres'].astype(str).apply(lambda x: x.replace(\"'\",''))"
   ]
  },
  {
   "cell_type": "code",
   "execution_count": 140,
   "id": "fd68bc9f",
   "metadata": {},
   "outputs": [
    {
     "data": {
      "text/html": [
       "<div>\n",
       "<style scoped>\n",
       "    .dataframe tbody tr th:only-of-type {\n",
       "        vertical-align: middle;\n",
       "    }\n",
       "\n",
       "    .dataframe tbody tr th {\n",
       "        vertical-align: top;\n",
       "    }\n",
       "\n",
       "    .dataframe thead th {\n",
       "        text-align: right;\n",
       "    }\n",
       "</style>\n",
       "<table border=\"1\" class=\"dataframe\">\n",
       "  <thead>\n",
       "    <tr style=\"text-align: right;\">\n",
       "      <th></th>\n",
       "      <th>title</th>\n",
       "      <th>series</th>\n",
       "      <th>authors</th>\n",
       "      <th>isbn</th>\n",
       "      <th>genres</th>\n",
       "      <th>description</th>\n",
       "      <th>pages</th>\n",
       "      <th>year</th>\n",
       "      <th>language</th>\n",
       "      <th>cover_image</th>\n",
       "      <th>total_number_ratings</th>\n",
       "      <th>average_rating</th>\n",
       "    </tr>\n",
       "  </thead>\n",
       "  <tbody>\n",
       "  </tbody>\n",
       "</table>\n",
       "</div>"
      ],
      "text/plain": [
       "Empty DataFrame\n",
       "Columns: [title, series, authors, isbn, genres, description, pages, year, language, cover_image, total_number_ratings, average_rating]\n",
       "Index: []"
      ]
     },
     "execution_count": 140,
     "metadata": {},
     "output_type": "execute_result"
    }
   ],
   "source": [
    "cleaningdata[cleaningdata['genres']== 'nan']#873 with genres = 'nan'"
   ]
  },
  {
   "cell_type": "code",
   "execution_count": 141,
   "id": "6ede225b",
   "metadata": {},
   "outputs": [],
   "source": [
    "cleaningdata['genres'] = cleaningdata['genres'].astype(str).apply(lambda x: x.replace(\"nan\",'none'))"
   ]
  },
  {
   "cell_type": "code",
   "execution_count": 142,
   "id": "b3220e59",
   "metadata": {
    "scrolled": true
   },
   "outputs": [
    {
     "data": {
      "text/html": [
       "<div>\n",
       "<style scoped>\n",
       "    .dataframe tbody tr th:only-of-type {\n",
       "        vertical-align: middle;\n",
       "    }\n",
       "\n",
       "    .dataframe tbody tr th {\n",
       "        vertical-align: top;\n",
       "    }\n",
       "\n",
       "    .dataframe thead th {\n",
       "        text-align: right;\n",
       "    }\n",
       "</style>\n",
       "<table border=\"1\" class=\"dataframe\">\n",
       "  <thead>\n",
       "    <tr style=\"text-align: right;\">\n",
       "      <th></th>\n",
       "      <th>title</th>\n",
       "      <th>series</th>\n",
       "      <th>authors</th>\n",
       "      <th>isbn</th>\n",
       "      <th>genres</th>\n",
       "      <th>description</th>\n",
       "      <th>pages</th>\n",
       "      <th>year</th>\n",
       "      <th>language</th>\n",
       "      <th>cover_image</th>\n",
       "      <th>total_number_ratings</th>\n",
       "      <th>average_rating</th>\n",
       "    </tr>\n",
       "  </thead>\n",
       "  <tbody>\n",
       "    <tr>\n",
       "      <th>0</th>\n",
       "      <td>To Kill a Mockingbird</td>\n",
       "      <td>To Kill a Mockingbird</td>\n",
       "      <td>Harper Lee</td>\n",
       "      <td>1439550417</td>\n",
       "      <td>Classics, Fiction, Historical, Historical Fict...</td>\n",
       "      <td>The unforgettable novel of a childhood in a sl...</td>\n",
       "      <td>324</td>\n",
       "      <td>1960</td>\n",
       "      <td>English</td>\n",
       "      <td>https://i.gr-assets.com/images/S/compressed.ph...</td>\n",
       "      <td>5011381</td>\n",
       "      <td>4.27</td>\n",
       "    </tr>\n",
       "    <tr>\n",
       "      <th>1</th>\n",
       "      <td>Harry Potter and the Sorcerer's Stone</td>\n",
       "      <td>Harry Potter #1</td>\n",
       "      <td>J.K. Rowling</td>\n",
       "      <td>0</td>\n",
       "      <td>Fantasy, Fiction, Young Adult, Magic, Children...</td>\n",
       "      <td>Harry Potter's life is miserable. His parents ...</td>\n",
       "      <td>309</td>\n",
       "      <td>1997</td>\n",
       "      <td>English</td>\n",
       "      <td>https://i.gr-assets.com/images/S/compressed.ph...</td>\n",
       "      <td>8003482</td>\n",
       "      <td>4.47</td>\n",
       "    </tr>\n",
       "    <tr>\n",
       "      <th>2</th>\n",
       "      <td>The Diary of a Young Girl</td>\n",
       "      <td>none</td>\n",
       "      <td>Anne Frank, Eleanor Roosevelt, Barbara Mooyaar...</td>\n",
       "      <td>330107372</td>\n",
       "      <td>Nonfiction, Classics, History, Biography, Auto...</td>\n",
       "      <td>Discovered in the attic in which she spent the...</td>\n",
       "      <td>283</td>\n",
       "      <td>1947</td>\n",
       "      <td>English</td>\n",
       "      <td>https://i.gr-assets.com/images/S/compressed.ph...</td>\n",
       "      <td>3088199</td>\n",
       "      <td>4.16</td>\n",
       "    </tr>\n",
       "    <tr>\n",
       "      <th>3</th>\n",
       "      <td>Animal Farm</td>\n",
       "      <td>none</td>\n",
       "      <td>George Orwell, Russell Baker, C.M. Woodhouse</td>\n",
       "      <td>9780451526342</td>\n",
       "      <td>Classics, Fiction, Science Fiction, Dystopia, ...</td>\n",
       "      <td>Librarian's note: There is an Alternate Cover ...</td>\n",
       "      <td>141</td>\n",
       "      <td>1945</td>\n",
       "      <td>English</td>\n",
       "      <td>https://i.gr-assets.com/images/S/compressed.ph...</td>\n",
       "      <td>3095756</td>\n",
       "      <td>3.97</td>\n",
       "    </tr>\n",
       "    <tr>\n",
       "      <th>4</th>\n",
       "      <td>The Little Prince</td>\n",
       "      <td>none</td>\n",
       "      <td>Antoine de Saint-Exupéry, Richard Howard</td>\n",
       "      <td>3125971403</td>\n",
       "      <td>Classics, Fiction, Fantasy, Childrens, Cultura...</td>\n",
       "      <td>A pilot stranded in the desert awakes one morn...</td>\n",
       "      <td>96</td>\n",
       "      <td>1943</td>\n",
       "      <td>English</td>\n",
       "      <td>https://i.gr-assets.com/images/S/compressed.ph...</td>\n",
       "      <td>1609561</td>\n",
       "      <td>4.31</td>\n",
       "    </tr>\n",
       "  </tbody>\n",
       "</table>\n",
       "</div>"
      ],
      "text/plain": [
       "                                   title                 series  \\\n",
       "0                  To Kill a Mockingbird  To Kill a Mockingbird   \n",
       "1  Harry Potter and the Sorcerer's Stone        Harry Potter #1   \n",
       "2              The Diary of a Young Girl                   none   \n",
       "3                            Animal Farm                   none   \n",
       "4                      The Little Prince                   none   \n",
       "\n",
       "                                             authors           isbn  \\\n",
       "0                                         Harper Lee     1439550417   \n",
       "1                                       J.K. Rowling              0   \n",
       "2  Anne Frank, Eleanor Roosevelt, Barbara Mooyaar...      330107372   \n",
       "3       George Orwell, Russell Baker, C.M. Woodhouse  9780451526342   \n",
       "4           Antoine de Saint-Exupéry, Richard Howard     3125971403   \n",
       "\n",
       "                                              genres  \\\n",
       "0  Classics, Fiction, Historical, Historical Fict...   \n",
       "1  Fantasy, Fiction, Young Adult, Magic, Children...   \n",
       "2  Nonfiction, Classics, History, Biography, Auto...   \n",
       "3  Classics, Fiction, Science Fiction, Dystopia, ...   \n",
       "4  Classics, Fiction, Fantasy, Childrens, Cultura...   \n",
       "\n",
       "                                         description  pages  year language  \\\n",
       "0  The unforgettable novel of a childhood in a sl...    324  1960  English   \n",
       "1  Harry Potter's life is miserable. His parents ...    309  1997  English   \n",
       "2  Discovered in the attic in which she spent the...    283  1947  English   \n",
       "3  Librarian's note: There is an Alternate Cover ...    141  1945  English   \n",
       "4  A pilot stranded in the desert awakes one morn...     96  1943  English   \n",
       "\n",
       "                                         cover_image  total_number_ratings  \\\n",
       "0  https://i.gr-assets.com/images/S/compressed.ph...               5011381   \n",
       "1  https://i.gr-assets.com/images/S/compressed.ph...               8003482   \n",
       "2  https://i.gr-assets.com/images/S/compressed.ph...               3088199   \n",
       "3  https://i.gr-assets.com/images/S/compressed.ph...               3095756   \n",
       "4  https://i.gr-assets.com/images/S/compressed.ph...               1609561   \n",
       "\n",
       "   average_rating  \n",
       "0            4.27  \n",
       "1            4.47  \n",
       "2            4.16  \n",
       "3            3.97  \n",
       "4            4.31  "
      ]
     },
     "execution_count": 142,
     "metadata": {},
     "output_type": "execute_result"
    }
   ],
   "source": [
    "cleaningdata.head()"
   ]
  },
  {
   "cell_type": "markdown",
   "id": "00f31882",
   "metadata": {},
   "source": [
    "## Save cleaned data to csv file"
   ]
  },
  {
   "cell_type": "code",
   "execution_count": 143,
   "id": "b292d7f0",
   "metadata": {},
   "outputs": [],
   "source": [
    "cleaningdata.to_csv(r'DataFinal\\DataCleanedFinal.csv')"
   ]
  }
 ],
 "metadata": {
  "kernelspec": {
   "display_name": "Python 3",
   "language": "python",
   "name": "python3"
  },
  "language_info": {
   "codemirror_mode": {
    "name": "ipython",
    "version": 3
   },
   "file_extension": ".py",
   "mimetype": "text/x-python",
   "name": "python",
   "nbconvert_exporter": "python",
   "pygments_lexer": "ipython3",
   "version": "3.9.4"
  },
  "toc": {
   "base_numbering": 1,
   "nav_menu": {},
   "number_sections": true,
   "sideBar": true,
   "skip_h1_title": true,
   "title_cell": "Table of Contents",
   "title_sidebar": "Contents",
   "toc_cell": false,
   "toc_position": {},
   "toc_section_display": true,
   "toc_window_display": true
  }
 },
 "nbformat": 4,
 "nbformat_minor": 5
}
