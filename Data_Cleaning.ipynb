{
 "cells": [
  {
   "cell_type": "markdown",
   "id": "4358da68",
   "metadata": {},
   "source": [
    "# Data Cleaning for Visualization"
   ]
  },
  {
   "cell_type": "markdown",
   "id": "579b9045",
   "metadata": {},
   "source": [
    "## Import Libraries"
   ]
  },
  {
   "cell_type": "code",
   "execution_count": 2,
   "id": "a0981521",
   "metadata": {},
   "outputs": [],
   "source": [
    "import pandas as pd\n",
    "import Functions_Books as funct\n",
    "import glob"
   ]
  },
  {
   "cell_type": "markdown",
   "id": "ca3f5399",
   "metadata": {},
   "source": [
    "## Import and check Dataframe"
   ]
  },
  {
   "cell_type": "code",
   "execution_count": 3,
   "id": "a4166bec",
   "metadata": {},
   "outputs": [
    {
     "data": {
      "text/html": [
       "<div>\n",
       "<style scoped>\n",
       "    .dataframe tbody tr th:only-of-type {\n",
       "        vertical-align: middle;\n",
       "    }\n",
       "\n",
       "    .dataframe tbody tr th {\n",
       "        vertical-align: top;\n",
       "    }\n",
       "\n",
       "    .dataframe thead th {\n",
       "        text-align: right;\n",
       "    }\n",
       "</style>\n",
       "<table border=\"1\" class=\"dataframe\">\n",
       "  <thead>\n",
       "    <tr style=\"text-align: right;\">\n",
       "      <th></th>\n",
       "      <th>Unnamed: 0</th>\n",
       "      <th>title</th>\n",
       "      <th>series</th>\n",
       "      <th>authors</th>\n",
       "      <th>isbn</th>\n",
       "      <th>genres</th>\n",
       "      <th>description</th>\n",
       "      <th>pages</th>\n",
       "      <th>year</th>\n",
       "      <th>language</th>\n",
       "      <th>cover_image</th>\n",
       "      <th>total_number_ratings</th>\n",
       "      <th>average_rating</th>\n",
       "    </tr>\n",
       "  </thead>\n",
       "  <tbody>\n",
       "    <tr>\n",
       "      <th>0</th>\n",
       "      <td>0</td>\n",
       "      <td>To Kill a Mockingbird</td>\n",
       "      <td>To Kill a Mockingbird</td>\n",
       "      <td>['Harper Lee']</td>\n",
       "      <td>1.439550e+09</td>\n",
       "      <td>['Classics', 'Fiction', 'Historical', 'Histori...</td>\n",
       "      <td>The unforgettable novel of a childhood in a sl...</td>\n",
       "      <td>324</td>\n",
       "      <td>1960</td>\n",
       "      <td>English</td>\n",
       "      <td>https://i.gr-assets.com/images/S/compressed.ph...</td>\n",
       "      <td>5011381</td>\n",
       "      <td>4.27</td>\n",
       "    </tr>\n",
       "    <tr>\n",
       "      <th>1</th>\n",
       "      <td>1</td>\n",
       "      <td>Harry Potter and the Sorcerer's Stone</td>\n",
       "      <td>Harry Potter #1</td>\n",
       "      <td>['J.K. Rowling']</td>\n",
       "      <td>0.000000e+00</td>\n",
       "      <td>['Fantasy', 'Fiction', 'Young Adult', 'Magic',...</td>\n",
       "      <td>Harry Potter's life is miserable. His parents ...</td>\n",
       "      <td>309</td>\n",
       "      <td>1997</td>\n",
       "      <td>English</td>\n",
       "      <td>https://i.gr-assets.com/images/S/compressed.ph...</td>\n",
       "      <td>8003482</td>\n",
       "      <td>4.47</td>\n",
       "    </tr>\n",
       "    <tr>\n",
       "      <th>2</th>\n",
       "      <td>2</td>\n",
       "      <td>The Diary of a Young Girl</td>\n",
       "      <td>NaN</td>\n",
       "      <td>['Anne Frank', 'Eleanor Roosevelt', 'Barbara M...</td>\n",
       "      <td>3.301074e+08</td>\n",
       "      <td>['Nonfiction', 'Classics', 'History', 'Biograp...</td>\n",
       "      <td>Discovered in the attic in which she spent the...</td>\n",
       "      <td>283</td>\n",
       "      <td>1947</td>\n",
       "      <td>English</td>\n",
       "      <td>https://i.gr-assets.com/images/S/compressed.ph...</td>\n",
       "      <td>3088199</td>\n",
       "      <td>4.16</td>\n",
       "    </tr>\n",
       "    <tr>\n",
       "      <th>3</th>\n",
       "      <td>3</td>\n",
       "      <td>Animal Farm</td>\n",
       "      <td>NaN</td>\n",
       "      <td>['George Orwell', 'Russell Baker', 'C.M. Woodh...</td>\n",
       "      <td>9.780452e+12</td>\n",
       "      <td>['Classics', 'Fiction', 'Science Fiction', 'Dy...</td>\n",
       "      <td>Librarian's note: There is an Alternate Cover ...</td>\n",
       "      <td>141</td>\n",
       "      <td>1945</td>\n",
       "      <td>English</td>\n",
       "      <td>https://i.gr-assets.com/images/S/compressed.ph...</td>\n",
       "      <td>3095756</td>\n",
       "      <td>3.97</td>\n",
       "    </tr>\n",
       "    <tr>\n",
       "      <th>4</th>\n",
       "      <td>4</td>\n",
       "      <td>The Little Prince</td>\n",
       "      <td>NaN</td>\n",
       "      <td>['Antoine de Saint-Exupéry', 'Richard Howard']</td>\n",
       "      <td>3.125971e+09</td>\n",
       "      <td>['Classics', 'Fiction', 'Fantasy', 'Childrens'...</td>\n",
       "      <td>A pilot stranded in the desert awakes one morn...</td>\n",
       "      <td>96</td>\n",
       "      <td>1943</td>\n",
       "      <td>English</td>\n",
       "      <td>https://i.gr-assets.com/images/S/compressed.ph...</td>\n",
       "      <td>1609561</td>\n",
       "      <td>4.31</td>\n",
       "    </tr>\n",
       "  </tbody>\n",
       "</table>\n",
       "</div>"
      ],
      "text/plain": [
       "   Unnamed: 0                                  title                 series  \\\n",
       "0           0                  To Kill a Mockingbird  To Kill a Mockingbird   \n",
       "1           1  Harry Potter and the Sorcerer's Stone        Harry Potter #1   \n",
       "2           2              The Diary of a Young Girl                    NaN   \n",
       "3           3                            Animal Farm                    NaN   \n",
       "4           4                      The Little Prince                    NaN   \n",
       "\n",
       "                                             authors          isbn  \\\n",
       "0                                     ['Harper Lee']  1.439550e+09   \n",
       "1                                   ['J.K. Rowling']  0.000000e+00   \n",
       "2  ['Anne Frank', 'Eleanor Roosevelt', 'Barbara M...  3.301074e+08   \n",
       "3  ['George Orwell', 'Russell Baker', 'C.M. Woodh...  9.780452e+12   \n",
       "4     ['Antoine de Saint-Exupéry', 'Richard Howard']  3.125971e+09   \n",
       "\n",
       "                                              genres  \\\n",
       "0  ['Classics', 'Fiction', 'Historical', 'Histori...   \n",
       "1  ['Fantasy', 'Fiction', 'Young Adult', 'Magic',...   \n",
       "2  ['Nonfiction', 'Classics', 'History', 'Biograp...   \n",
       "3  ['Classics', 'Fiction', 'Science Fiction', 'Dy...   \n",
       "4  ['Classics', 'Fiction', 'Fantasy', 'Childrens'...   \n",
       "\n",
       "                                         description  pages  year language  \\\n",
       "0  The unforgettable novel of a childhood in a sl...    324  1960  English   \n",
       "1  Harry Potter's life is miserable. His parents ...    309  1997  English   \n",
       "2  Discovered in the attic in which she spent the...    283  1947  English   \n",
       "3  Librarian's note: There is an Alternate Cover ...    141  1945  English   \n",
       "4  A pilot stranded in the desert awakes one morn...     96  1943  English   \n",
       "\n",
       "                                         cover_image  total_number_ratings  \\\n",
       "0  https://i.gr-assets.com/images/S/compressed.ph...               5011381   \n",
       "1  https://i.gr-assets.com/images/S/compressed.ph...               8003482   \n",
       "2  https://i.gr-assets.com/images/S/compressed.ph...               3088199   \n",
       "3  https://i.gr-assets.com/images/S/compressed.ph...               3095756   \n",
       "4  https://i.gr-assets.com/images/S/compressed.ph...               1609561   \n",
       "\n",
       "   average_rating  \n",
       "0            4.27  \n",
       "1            4.47  \n",
       "2            4.16  \n",
       "3            3.97  \n",
       "4            4.31  "
      ]
     },
     "execution_count": 3,
     "metadata": {},
     "output_type": "execute_result"
    }
   ],
   "source": [
    "rawdata =pd.read_csv(r'DataFinal\\data_cleaninggeneral_afternumericals.csv')\n",
    "cleaningdata = rawdata.copy()\n",
    "cleaningdata.head()"
   ]
  },
  {
   "cell_type": "code",
   "execution_count": 59,
   "id": "07cacf6a",
   "metadata": {},
   "outputs": [
    {
     "data": {
      "text/plain": [
       "title                                             Hometown Girl After All\n",
       "series                                                        Hometown #2\n",
       "authors                                                 'Kirsten Fullmer'\n",
       "isbn                                                      9781979854894.0\n",
       "genres                  'Contemporary', 'Young Adult', 'New Adult', 'F...\n",
       "description             Julia lost everything while she was ill. Self-...\n",
       "pages                                                                 352\n",
       "year                                                                 2017\n",
       "language                                                          English\n",
       "cover_image             https://i.gr-assets.com/images/S/compressed.ph...\n",
       "total_number_ratings                                                 1000\n",
       "average_rating                                                       4.31\n",
       "Name: 900, dtype: object"
      ]
     },
     "execution_count": 59,
     "metadata": {},
     "output_type": "execute_result"
    }
   ],
   "source": [
    "cleaningdata.loc[900,:]"
   ]
  },
  {
   "cell_type": "code",
   "execution_count": 6,
   "id": "e0bf4605",
   "metadata": {},
   "outputs": [
    {
     "data": {
      "text/plain": [
       "(8431, 13)"
      ]
     },
     "execution_count": 6,
     "metadata": {},
     "output_type": "execute_result"
    }
   ],
   "source": [
    "cleaningdata.shape"
   ]
  },
  {
   "cell_type": "code",
   "execution_count": 7,
   "id": "cec50b38",
   "metadata": {},
   "outputs": [
    {
     "name": "stdout",
     "output_type": "stream",
     "text": [
      "<class 'pandas.core.frame.DataFrame'>\n",
      "RangeIndex: 8431 entries, 0 to 8430\n",
      "Data columns (total 13 columns):\n",
      " #   Column                Non-Null Count  Dtype  \n",
      "---  ------                --------------  -----  \n",
      " 0   Unnamed: 0            8431 non-null   int64  \n",
      " 1   title                 8431 non-null   object \n",
      " 2   series                2802 non-null   object \n",
      " 3   authors               8431 non-null   object \n",
      " 4   isbn                  8431 non-null   float64\n",
      " 5   genres                8431 non-null   object \n",
      " 6   description           7967 non-null   object \n",
      " 7   pages                 8431 non-null   int64  \n",
      " 8   year                  8431 non-null   object \n",
      " 9   language              7889 non-null   object \n",
      " 10  cover_image           8382 non-null   object \n",
      " 11  total_number_ratings  8431 non-null   int64  \n",
      " 12  average_rating        8431 non-null   float64\n",
      "dtypes: float64(2), int64(3), object(8)\n",
      "memory usage: 856.4+ KB\n"
     ]
    }
   ],
   "source": [
    "cleaningdata.info()"
   ]
  },
  {
   "cell_type": "markdown",
   "id": "be541780",
   "metadata": {},
   "source": [
    "Categoricals: title, series, authors, genres, description, language, cover_image, isbn(?) <br>\n",
    "Numericals: pages, total_number_ratings, average_rating <br>\n",
    "Date: year"
   ]
  },
  {
   "cell_type": "markdown",
   "id": "56dbe115",
   "metadata": {},
   "source": [
    "## Remove column \"Unnamed:\""
   ]
  },
  {
   "cell_type": "code",
   "execution_count": 8,
   "id": "cd7bface",
   "metadata": {},
   "outputs": [
    {
     "data": {
      "text/plain": [
       "Index(['title', 'series', 'authors', 'isbn', 'genres', 'description', 'pages',\n",
       "       'year', 'language', 'cover_image', 'total_number_ratings',\n",
       "       'average_rating'],\n",
       "      dtype='object')"
      ]
     },
     "execution_count": 8,
     "metadata": {},
     "output_type": "execute_result"
    }
   ],
   "source": [
    "cleaningdata=cleaningdata.drop(columns='Unnamed: 0', axis=1)\n",
    "cleaningdata.columns"
   ]
  },
  {
   "cell_type": "markdown",
   "id": "d036621c",
   "metadata": {},
   "source": [
    "## Clean column \"pages\""
   ]
  },
  {
   "cell_type": "code",
   "execution_count": 9,
   "id": "bef9fd94",
   "metadata": {},
   "outputs": [
    {
     "data": {
      "text/plain": [
       "0       348\n",
       "320     116\n",
       "288     112\n",
       "240      96\n",
       "352      95\n",
       "       ... \n",
       "971       1\n",
       "963       1\n",
       "947       1\n",
       "939       1\n",
       "1559      1\n",
       "Name: pages, Length: 961, dtype: int64"
      ]
     },
     "execution_count": 9,
     "metadata": {},
     "output_type": "execute_result"
    }
   ],
   "source": [
    "cleaningdata['pages'].value_counts()"
   ]
  },
  {
   "cell_type": "code",
   "execution_count": 11,
   "id": "28c5f8b0",
   "metadata": {},
   "outputs": [
    {
     "data": {
      "text/html": [
       "<div>\n",
       "<style scoped>\n",
       "    .dataframe tbody tr th:only-of-type {\n",
       "        vertical-align: middle;\n",
       "    }\n",
       "\n",
       "    .dataframe tbody tr th {\n",
       "        vertical-align: top;\n",
       "    }\n",
       "\n",
       "    .dataframe thead th {\n",
       "        text-align: right;\n",
       "    }\n",
       "</style>\n",
       "<table border=\"1\" class=\"dataframe\">\n",
       "  <thead>\n",
       "    <tr style=\"text-align: right;\">\n",
       "      <th></th>\n",
       "      <th>title</th>\n",
       "      <th>series</th>\n",
       "      <th>authors</th>\n",
       "      <th>isbn</th>\n",
       "      <th>genres</th>\n",
       "      <th>description</th>\n",
       "      <th>pages</th>\n",
       "      <th>year</th>\n",
       "      <th>language</th>\n",
       "      <th>cover_image</th>\n",
       "      <th>total_number_ratings</th>\n",
       "      <th>average_rating</th>\n",
       "    </tr>\n",
       "  </thead>\n",
       "  <tbody>\n",
       "  </tbody>\n",
       "</table>\n",
       "</div>"
      ],
      "text/plain": [
       "Empty DataFrame\n",
       "Columns: [title, series, authors, isbn, genres, description, pages, year, language, cover_image, total_number_ratings, average_rating]\n",
       "Index: []"
      ]
     },
     "execution_count": 11,
     "metadata": {},
     "output_type": "execute_result"
    }
   ],
   "source": [
    "cleaningdata[cleaningdata['pages'].isna()==True] "
   ]
  },
  {
   "cell_type": "code",
   "execution_count": 12,
   "id": "804f4ad9",
   "metadata": {},
   "outputs": [
    {
     "data": {
      "text/plain": [
       "0"
      ]
     },
     "execution_count": 12,
     "metadata": {},
     "output_type": "execute_result"
    }
   ],
   "source": [
    "cleaningdata['pages'] = cleaningdata['pages'].fillna('0')\n",
    "cleaningdata['pages'].isna().sum()"
   ]
  },
  {
   "cell_type": "markdown",
   "id": "96f278f1",
   "metadata": {},
   "source": [
    "## Clean column \"total_numer_ratings\""
   ]
  },
  {
   "cell_type": "code",
   "execution_count": 13,
   "id": "2d4a8354",
   "metadata": {},
   "outputs": [
    {
     "data": {
      "text/plain": [
       "2        62\n",
       "6        58\n",
       "3        55\n",
       "1        46\n",
       "4        46\n",
       "         ..\n",
       "77263     1\n",
       "9678      1\n",
       "30156     1\n",
       "7625      1\n",
       "83967     1\n",
       "Name: total_number_ratings, Length: 6371, dtype: int64"
      ]
     },
     "execution_count": 13,
     "metadata": {},
     "output_type": "execute_result"
    }
   ],
   "source": [
    "cleaningdata['total_number_ratings'].value_counts()"
   ]
  },
  {
   "cell_type": "code",
   "execution_count": 14,
   "id": "5651bc3b",
   "metadata": {},
   "outputs": [
    {
     "data": {
      "text/plain": [
       "0"
      ]
     },
     "execution_count": 14,
     "metadata": {},
     "output_type": "execute_result"
    }
   ],
   "source": [
    "cleaningdata['total_number_ratings'].isna().sum()"
   ]
  },
  {
   "cell_type": "code",
   "execution_count": 15,
   "id": "1b50c6be",
   "metadata": {
    "scrolled": true
   },
   "outputs": [
    {
     "data": {
      "text/html": [
       "<div>\n",
       "<style scoped>\n",
       "    .dataframe tbody tr th:only-of-type {\n",
       "        vertical-align: middle;\n",
       "    }\n",
       "\n",
       "    .dataframe tbody tr th {\n",
       "        vertical-align: top;\n",
       "    }\n",
       "\n",
       "    .dataframe thead th {\n",
       "        text-align: right;\n",
       "    }\n",
       "</style>\n",
       "<table border=\"1\" class=\"dataframe\">\n",
       "  <thead>\n",
       "    <tr style=\"text-align: right;\">\n",
       "      <th></th>\n",
       "      <th>title</th>\n",
       "      <th>series</th>\n",
       "      <th>authors</th>\n",
       "      <th>isbn</th>\n",
       "      <th>genres</th>\n",
       "      <th>description</th>\n",
       "      <th>pages</th>\n",
       "      <th>year</th>\n",
       "      <th>language</th>\n",
       "      <th>cover_image</th>\n",
       "      <th>total_number_ratings</th>\n",
       "      <th>average_rating</th>\n",
       "    </tr>\n",
       "  </thead>\n",
       "  <tbody>\n",
       "  </tbody>\n",
       "</table>\n",
       "</div>"
      ],
      "text/plain": [
       "Empty DataFrame\n",
       "Columns: [title, series, authors, isbn, genres, description, pages, year, language, cover_image, total_number_ratings, average_rating]\n",
       "Index: []"
      ]
     },
     "execution_count": 15,
     "metadata": {},
     "output_type": "execute_result"
    }
   ],
   "source": [
    "cleaningdata[cleaningdata['total_number_ratings']=='0']"
   ]
  },
  {
   "cell_type": "markdown",
   "id": "f0abf07d",
   "metadata": {},
   "source": [
    "### Generalize spelling in column - remove all ','"
   ]
  },
  {
   "cell_type": "code",
   "execution_count": 16,
   "id": "56bece91",
   "metadata": {},
   "outputs": [
    {
     "ename": "AttributeError",
     "evalue": "Can only use .str accessor with string values!",
     "output_type": "error",
     "traceback": [
      "\u001b[1;31m---------------------------------------------------------------------------\u001b[0m",
      "\u001b[1;31mAttributeError\u001b[0m                            Traceback (most recent call last)",
      "\u001b[1;32m<ipython-input-16-fc7ad49d7f3e>\u001b[0m in \u001b[0;36m<module>\u001b[1;34m\u001b[0m\n\u001b[1;32m----> 1\u001b[1;33m \u001b[0mfunct\u001b[0m\u001b[1;33m.\u001b[0m\u001b[0mreplace_in_column\u001b[0m\u001b[1;33m(\u001b[0m\u001b[0mcleaningdata\u001b[0m\u001b[1;33m,\u001b[0m\u001b[1;34m\"total_number_ratings\"\u001b[0m\u001b[1;33m,\u001b[0m\u001b[1;34m','\u001b[0m\u001b[1;33m,\u001b[0m\u001b[1;34m''\u001b[0m\u001b[1;33m)\u001b[0m\u001b[1;33m\u001b[0m\u001b[1;33m\u001b[0m\u001b[0m\n\u001b[0m",
      "\u001b[1;32m~\\Ironhack\\Final Project\\Functions_Books.py\u001b[0m in \u001b[0;36mreplace_in_column\u001b[1;34m(df, column, find, replace_by)\u001b[0m\n\u001b[0;32m     16\u001b[0m \u001b[1;32mdef\u001b[0m \u001b[0mreplace_in_column\u001b[0m\u001b[1;33m(\u001b[0m\u001b[0mdf\u001b[0m\u001b[1;33m,\u001b[0m \u001b[0mcolumn\u001b[0m\u001b[1;33m,\u001b[0m\u001b[0mfind\u001b[0m\u001b[1;33m,\u001b[0m\u001b[0mreplace_by\u001b[0m\u001b[1;33m)\u001b[0m\u001b[1;33m:\u001b[0m\u001b[1;33m\u001b[0m\u001b[1;33m\u001b[0m\u001b[0m\n\u001b[0;32m     17\u001b[0m     \u001b[1;32mfor\u001b[0m \u001b[0mdf\u001b[0m\u001b[1;33m.\u001b[0m\u001b[0mrows\u001b[0m \u001b[1;32min\u001b[0m \u001b[0mdf\u001b[0m\u001b[1;33m[\u001b[0m\u001b[0mcolumn\u001b[0m\u001b[1;33m]\u001b[0m\u001b[1;33m:\u001b[0m\u001b[1;33m\u001b[0m\u001b[1;33m\u001b[0m\u001b[0m\n\u001b[1;32m---> 18\u001b[1;33m         \u001b[0mdf\u001b[0m\u001b[1;33m[\u001b[0m\u001b[0mcolumn\u001b[0m\u001b[1;33m]\u001b[0m \u001b[1;33m=\u001b[0m \u001b[0mdf\u001b[0m\u001b[1;33m[\u001b[0m\u001b[0mcolumn\u001b[0m\u001b[1;33m]\u001b[0m\u001b[1;33m.\u001b[0m\u001b[0mstr\u001b[0m\u001b[1;33m.\u001b[0m\u001b[0mreplace\u001b[0m\u001b[1;33m(\u001b[0m\u001b[0mfind\u001b[0m\u001b[1;33m,\u001b[0m\u001b[0mreplace_by\u001b[0m\u001b[1;33m)\u001b[0m\u001b[1;33m\u001b[0m\u001b[1;33m\u001b[0m\u001b[0m\n\u001b[0m\u001b[0;32m     19\u001b[0m \u001b[1;33m\u001b[0m\u001b[0m\n\u001b[0;32m     20\u001b[0m \u001b[1;31m#Replace nall with mean in column\u001b[0m\u001b[1;33m\u001b[0m\u001b[1;33m\u001b[0m\u001b[1;33m\u001b[0m\u001b[0m\n",
      "\u001b[1;32mc:\\users\\anton\\appdata\\local\\programs\\python\\python39\\lib\\site-packages\\pandas\\core\\generic.py\u001b[0m in \u001b[0;36m__getattr__\u001b[1;34m(self, name)\u001b[0m\n\u001b[0;32m   5459\u001b[0m             \u001b[1;32mor\u001b[0m \u001b[0mname\u001b[0m \u001b[1;32min\u001b[0m \u001b[0mself\u001b[0m\u001b[1;33m.\u001b[0m\u001b[0m_accessors\u001b[0m\u001b[1;33m\u001b[0m\u001b[1;33m\u001b[0m\u001b[0m\n\u001b[0;32m   5460\u001b[0m         ):\n\u001b[1;32m-> 5461\u001b[1;33m             \u001b[1;32mreturn\u001b[0m \u001b[0mobject\u001b[0m\u001b[1;33m.\u001b[0m\u001b[0m__getattribute__\u001b[0m\u001b[1;33m(\u001b[0m\u001b[0mself\u001b[0m\u001b[1;33m,\u001b[0m \u001b[0mname\u001b[0m\u001b[1;33m)\u001b[0m\u001b[1;33m\u001b[0m\u001b[1;33m\u001b[0m\u001b[0m\n\u001b[0m\u001b[0;32m   5462\u001b[0m         \u001b[1;32melse\u001b[0m\u001b[1;33m:\u001b[0m\u001b[1;33m\u001b[0m\u001b[1;33m\u001b[0m\u001b[0m\n\u001b[0;32m   5463\u001b[0m             \u001b[1;32mif\u001b[0m \u001b[0mself\u001b[0m\u001b[1;33m.\u001b[0m\u001b[0m_info_axis\u001b[0m\u001b[1;33m.\u001b[0m\u001b[0m_can_hold_identifiers_and_holds_name\u001b[0m\u001b[1;33m(\u001b[0m\u001b[0mname\u001b[0m\u001b[1;33m)\u001b[0m\u001b[1;33m:\u001b[0m\u001b[1;33m\u001b[0m\u001b[1;33m\u001b[0m\u001b[0m\n",
      "\u001b[1;32mc:\\users\\anton\\appdata\\local\\programs\\python\\python39\\lib\\site-packages\\pandas\\core\\accessor.py\u001b[0m in \u001b[0;36m__get__\u001b[1;34m(self, obj, cls)\u001b[0m\n\u001b[0;32m    178\u001b[0m             \u001b[1;31m# we're accessing the attribute of the class, i.e., Dataset.geo\u001b[0m\u001b[1;33m\u001b[0m\u001b[1;33m\u001b[0m\u001b[1;33m\u001b[0m\u001b[0m\n\u001b[0;32m    179\u001b[0m             \u001b[1;32mreturn\u001b[0m \u001b[0mself\u001b[0m\u001b[1;33m.\u001b[0m\u001b[0m_accessor\u001b[0m\u001b[1;33m\u001b[0m\u001b[1;33m\u001b[0m\u001b[0m\n\u001b[1;32m--> 180\u001b[1;33m         \u001b[0maccessor_obj\u001b[0m \u001b[1;33m=\u001b[0m \u001b[0mself\u001b[0m\u001b[1;33m.\u001b[0m\u001b[0m_accessor\u001b[0m\u001b[1;33m(\u001b[0m\u001b[0mobj\u001b[0m\u001b[1;33m)\u001b[0m\u001b[1;33m\u001b[0m\u001b[1;33m\u001b[0m\u001b[0m\n\u001b[0m\u001b[0;32m    181\u001b[0m         \u001b[1;31m# Replace the property with the accessor object. Inspired by:\u001b[0m\u001b[1;33m\u001b[0m\u001b[1;33m\u001b[0m\u001b[1;33m\u001b[0m\u001b[0m\n\u001b[0;32m    182\u001b[0m         \u001b[1;31m# https://www.pydanny.com/cached-property.html\u001b[0m\u001b[1;33m\u001b[0m\u001b[1;33m\u001b[0m\u001b[1;33m\u001b[0m\u001b[0m\n",
      "\u001b[1;32mc:\\users\\anton\\appdata\\local\\programs\\python\\python39\\lib\\site-packages\\pandas\\core\\strings\\accessor.py\u001b[0m in \u001b[0;36m__init__\u001b[1;34m(self, data)\u001b[0m\n\u001b[0;32m    152\u001b[0m         \u001b[1;32mfrom\u001b[0m \u001b[0mpandas\u001b[0m\u001b[1;33m.\u001b[0m\u001b[0mcore\u001b[0m\u001b[1;33m.\u001b[0m\u001b[0marrays\u001b[0m\u001b[1;33m.\u001b[0m\u001b[0mstring_\u001b[0m \u001b[1;32mimport\u001b[0m \u001b[0mStringDtype\u001b[0m\u001b[1;33m\u001b[0m\u001b[1;33m\u001b[0m\u001b[0m\n\u001b[0;32m    153\u001b[0m \u001b[1;33m\u001b[0m\u001b[0m\n\u001b[1;32m--> 154\u001b[1;33m         \u001b[0mself\u001b[0m\u001b[1;33m.\u001b[0m\u001b[0m_inferred_dtype\u001b[0m \u001b[1;33m=\u001b[0m \u001b[0mself\u001b[0m\u001b[1;33m.\u001b[0m\u001b[0m_validate\u001b[0m\u001b[1;33m(\u001b[0m\u001b[0mdata\u001b[0m\u001b[1;33m)\u001b[0m\u001b[1;33m\u001b[0m\u001b[1;33m\u001b[0m\u001b[0m\n\u001b[0m\u001b[0;32m    155\u001b[0m         \u001b[0mself\u001b[0m\u001b[1;33m.\u001b[0m\u001b[0m_is_categorical\u001b[0m \u001b[1;33m=\u001b[0m \u001b[0mis_categorical_dtype\u001b[0m\u001b[1;33m(\u001b[0m\u001b[0mdata\u001b[0m\u001b[1;33m.\u001b[0m\u001b[0mdtype\u001b[0m\u001b[1;33m)\u001b[0m\u001b[1;33m\u001b[0m\u001b[1;33m\u001b[0m\u001b[0m\n\u001b[0;32m    156\u001b[0m         \u001b[0mself\u001b[0m\u001b[1;33m.\u001b[0m\u001b[0m_is_string\u001b[0m \u001b[1;33m=\u001b[0m \u001b[0misinstance\u001b[0m\u001b[1;33m(\u001b[0m\u001b[0mdata\u001b[0m\u001b[1;33m.\u001b[0m\u001b[0mdtype\u001b[0m\u001b[1;33m,\u001b[0m \u001b[0mStringDtype\u001b[0m\u001b[1;33m)\u001b[0m\u001b[1;33m\u001b[0m\u001b[1;33m\u001b[0m\u001b[0m\n",
      "\u001b[1;32mc:\\users\\anton\\appdata\\local\\programs\\python\\python39\\lib\\site-packages\\pandas\\core\\strings\\accessor.py\u001b[0m in \u001b[0;36m_validate\u001b[1;34m(data)\u001b[0m\n\u001b[0;32m    215\u001b[0m \u001b[1;33m\u001b[0m\u001b[0m\n\u001b[0;32m    216\u001b[0m         \u001b[1;32mif\u001b[0m \u001b[0minferred_dtype\u001b[0m \u001b[1;32mnot\u001b[0m \u001b[1;32min\u001b[0m \u001b[0mallowed_types\u001b[0m\u001b[1;33m:\u001b[0m\u001b[1;33m\u001b[0m\u001b[1;33m\u001b[0m\u001b[0m\n\u001b[1;32m--> 217\u001b[1;33m             \u001b[1;32mraise\u001b[0m \u001b[0mAttributeError\u001b[0m\u001b[1;33m(\u001b[0m\u001b[1;34m\"Can only use .str accessor with string values!\"\u001b[0m\u001b[1;33m)\u001b[0m\u001b[1;33m\u001b[0m\u001b[1;33m\u001b[0m\u001b[0m\n\u001b[0m\u001b[0;32m    218\u001b[0m         \u001b[1;32mreturn\u001b[0m \u001b[0minferred_dtype\u001b[0m\u001b[1;33m\u001b[0m\u001b[1;33m\u001b[0m\u001b[0m\n\u001b[0;32m    219\u001b[0m \u001b[1;33m\u001b[0m\u001b[0m\n",
      "\u001b[1;31mAttributeError\u001b[0m: Can only use .str accessor with string values!"
     ]
    }
   ],
   "source": [
    "funct.replace_in_column(cleaningdata,\"total_number_ratings\",',','')"
   ]
  },
  {
   "cell_type": "markdown",
   "id": "1675ab76",
   "metadata": {},
   "source": [
    "### Change data type of column to numerical"
   ]
  },
  {
   "cell_type": "code",
   "execution_count": 17,
   "id": "2dfee8f8",
   "metadata": {},
   "outputs": [],
   "source": [
    "funct.convert_data_types(cleaningdata,'number', incolumns=['total_number_ratings'])"
   ]
  },
  {
   "cell_type": "markdown",
   "id": "0a70ceac",
   "metadata": {},
   "source": [
    "## Clean column \"average_rating\""
   ]
  },
  {
   "cell_type": "code",
   "execution_count": 18,
   "id": "68e31be2",
   "metadata": {},
   "outputs": [
    {
     "data": {
      "text/plain": [
       "4.00    187\n",
       "4.18    131\n",
       "4.17    130\n",
       "4.13    129\n",
       "4.12    127\n",
       "       ... \n",
       "4.82      1\n",
       "3.06      1\n",
       "2.82      1\n",
       "2.75      1\n",
       "3.04      1\n",
       "Name: average_rating, Length: 211, dtype: int64"
      ]
     },
     "execution_count": 18,
     "metadata": {},
     "output_type": "execute_result"
    }
   ],
   "source": [
    "cleaningdata['average_rating'].value_counts()"
   ]
  },
  {
   "cell_type": "code",
   "execution_count": 19,
   "id": "8550767b",
   "metadata": {},
   "outputs": [
    {
     "data": {
      "text/plain": [
       "0"
      ]
     },
     "execution_count": 19,
     "metadata": {},
     "output_type": "execute_result"
    }
   ],
   "source": [
    "cleaningdata['average_rating'].isna().sum()\n",
    "#cleaningdata[cleaningdata['average_rating'].isna()==True] "
   ]
  },
  {
   "cell_type": "markdown",
   "id": "3ba2d70e",
   "metadata": {},
   "source": [
    "## Clean column \"isbn\""
   ]
  },
  {
   "cell_type": "markdown",
   "id": "1415f0f2",
   "metadata": {},
   "source": [
    "### Remove null values"
   ]
  },
  {
   "cell_type": "code",
   "execution_count": 20,
   "id": "82636612",
   "metadata": {},
   "outputs": [],
   "source": [
    "cleaningdata['isbn'] = cleaningdata['isbn'].fillna('0')"
   ]
  },
  {
   "cell_type": "code",
   "execution_count": 21,
   "id": "dabdf5dc",
   "metadata": {},
   "outputs": [
    {
     "data": {
      "text/html": [
       "<div>\n",
       "<style scoped>\n",
       "    .dataframe tbody tr th:only-of-type {\n",
       "        vertical-align: middle;\n",
       "    }\n",
       "\n",
       "    .dataframe tbody tr th {\n",
       "        vertical-align: top;\n",
       "    }\n",
       "\n",
       "    .dataframe thead th {\n",
       "        text-align: right;\n",
       "    }\n",
       "</style>\n",
       "<table border=\"1\" class=\"dataframe\">\n",
       "  <thead>\n",
       "    <tr style=\"text-align: right;\">\n",
       "      <th></th>\n",
       "      <th>title</th>\n",
       "      <th>series</th>\n",
       "      <th>authors</th>\n",
       "      <th>isbn</th>\n",
       "      <th>genres</th>\n",
       "      <th>description</th>\n",
       "      <th>pages</th>\n",
       "      <th>year</th>\n",
       "      <th>language</th>\n",
       "      <th>cover_image</th>\n",
       "      <th>total_number_ratings</th>\n",
       "      <th>average_rating</th>\n",
       "    </tr>\n",
       "  </thead>\n",
       "  <tbody>\n",
       "  </tbody>\n",
       "</table>\n",
       "</div>"
      ],
      "text/plain": [
       "Empty DataFrame\n",
       "Columns: [title, series, authors, isbn, genres, description, pages, year, language, cover_image, total_number_ratings, average_rating]\n",
       "Index: []"
      ]
     },
     "execution_count": 21,
     "metadata": {},
     "output_type": "execute_result"
    }
   ],
   "source": [
    "cleaningdata[cleaningdata['isbn'].isna()==True] "
   ]
  },
  {
   "cell_type": "code",
   "execution_count": 62,
   "id": "bf678c59",
   "metadata": {},
   "outputs": [
    {
     "data": {
      "text/plain": [
       "title                                            We Are Bridges: A Memoir\n",
       "series                                                               none\n",
       "authors                                                  'Cassandra Lane'\n",
       "isbn                                                        9781952177927\n",
       "genres                            'Autobiography', 'Memoir', 'Nonfiction'\n",
       "description             \"In this evocative memoir, Cassandra Lane deft...\n",
       "pages                                                                 232\n",
       "year                                                                 2021\n",
       "language                                                          English\n",
       "cover_image             https://i.gr-assets.com/images/S/compressed.ph...\n",
       "total_number_ratings                                                   45\n",
       "average_rating                                                        4.2\n",
       "Name: 3456, dtype: object"
      ]
     },
     "execution_count": 62,
     "metadata": {},
     "output_type": "execute_result"
    }
   ],
   "source": [
    "cleaningdata.loc[3456,:]"
   ]
  },
  {
   "cell_type": "markdown",
   "id": "c7a5e095",
   "metadata": {},
   "source": [
    "### Remove the .0 in the column"
   ]
  },
  {
   "cell_type": "code",
   "execution_count": 61,
   "id": "18e630e2",
   "metadata": {},
   "outputs": [],
   "source": [
    "cleaningdata['isbn'] = cleaningdata['isbn'].astype(str).apply(lambda x: x.replace('.0',''))"
   ]
  },
  {
   "cell_type": "code",
   "execution_count": 24,
   "id": "cbdb5a80",
   "metadata": {},
   "outputs": [],
   "source": [
    "funct.convert_data_types(cleaningdata,'number', incolumns=['isbn'])"
   ]
  },
  {
   "cell_type": "code",
   "execution_count": 25,
   "id": "c515794b",
   "metadata": {},
   "outputs": [
    {
     "data": {
      "text/plain": [
       "dtype('float64')"
      ]
     },
     "execution_count": 25,
     "metadata": {},
     "output_type": "execute_result"
    }
   ],
   "source": [
    "cleaningdata['isbn'].dtypes"
   ]
  },
  {
   "cell_type": "code",
   "execution_count": null,
   "id": "16f08262",
   "metadata": {},
   "outputs": [],
   "source": [
    "#Checking isbns: aLL with isbn13 (digits13) and then all with digits 10 isbn 10 -open"
   ]
  },
  {
   "cell_type": "code",
   "execution_count": null,
   "id": "3d2a82ff",
   "metadata": {},
   "outputs": [],
   "source": [
    "#remove duplicates? -open\n",
    "duplicateRowsDF = cleaningdata[cleaningdata.duplicated(['title'],keep=False)]\n",
    "duplicateRowsDF"
   ]
  },
  {
   "cell_type": "markdown",
   "id": "3081eeb9",
   "metadata": {},
   "source": [
    "## Clean column year"
   ]
  },
  {
   "cell_type": "markdown",
   "id": "cc094a88",
   "metadata": {},
   "source": [
    "### Check value counts"
   ]
  },
  {
   "cell_type": "code",
   "execution_count": 63,
   "id": "4264625a",
   "metadata": {},
   "outputs": [
    {
     "data": {
      "text/plain": [
       "2013    570\n",
       "2012    567\n",
       "2014    529\n",
       "2011    442\n",
       "2015    296\n",
       "       ... \n",
       "1824      1\n",
       "1877      1\n",
       "1074      1\n",
       "1767      1\n",
       "1635      1\n",
       "Name: year, Length: 323, dtype: int64"
      ]
     },
     "execution_count": 63,
     "metadata": {},
     "output_type": "execute_result"
    }
   ],
   "source": [
    "#df[(x <= df['columnX']) & (df['columnX'] <= y)]\n",
    "cleaningdata['year'].value_counts()"
   ]
  },
  {
   "cell_type": "code",
   "execution_count": 31,
   "id": "da475746",
   "metadata": {},
   "outputs": [],
   "source": [
    "cleaningdata.to_csv(r'DataFinal\\DataCleaningbeforecateorigcal.csv')"
   ]
  },
  {
   "cell_type": "markdown",
   "id": "e4f35ccc",
   "metadata": {},
   "source": [
    "### Change datatype"
   ]
  },
  {
   "cell_type": "code",
   "execution_count": 29,
   "id": "f47dc86d",
   "metadata": {},
   "outputs": [
    {
     "ename": "OutOfBoundsDatetime",
     "evalue": "Out of bounds nanosecond timestamp: 1597-01-01 00:00:00",
     "output_type": "error",
     "traceback": [
      "\u001b[1;31m---------------------------------------------------------------------------\u001b[0m",
      "\u001b[1;31mTypeError\u001b[0m                                 Traceback (most recent call last)",
      "\u001b[1;32mc:\\users\\anton\\appdata\\local\\programs\\python\\python39\\lib\\site-packages\\pandas\\core\\arrays\\datetimes.py\u001b[0m in \u001b[0;36mobjects_to_datetime64ns\u001b[1;34m(data, dayfirst, yearfirst, utc, errors, require_iso8601, allow_object)\u001b[0m\n\u001b[0;32m   2084\u001b[0m         \u001b[1;32mtry\u001b[0m\u001b[1;33m:\u001b[0m\u001b[1;33m\u001b[0m\u001b[1;33m\u001b[0m\u001b[0m\n\u001b[1;32m-> 2085\u001b[1;33m             \u001b[0mvalues\u001b[0m\u001b[1;33m,\u001b[0m \u001b[0mtz_parsed\u001b[0m \u001b[1;33m=\u001b[0m \u001b[0mconversion\u001b[0m\u001b[1;33m.\u001b[0m\u001b[0mdatetime_to_datetime64\u001b[0m\u001b[1;33m(\u001b[0m\u001b[0mdata\u001b[0m\u001b[1;33m)\u001b[0m\u001b[1;33m\u001b[0m\u001b[1;33m\u001b[0m\u001b[0m\n\u001b[0m\u001b[0;32m   2086\u001b[0m             \u001b[1;31m# If tzaware, these values represent unix timestamps, so we\u001b[0m\u001b[1;33m\u001b[0m\u001b[1;33m\u001b[0m\u001b[1;33m\u001b[0m\u001b[0m\n",
      "\u001b[1;32mpandas\\_libs\\tslibs\\conversion.pyx\u001b[0m in \u001b[0;36mpandas._libs.tslibs.conversion.datetime_to_datetime64\u001b[1;34m()\u001b[0m\n",
      "\u001b[1;31mTypeError\u001b[0m: Unrecognized value type: <class 'str'>",
      "\nDuring handling of the above exception, another exception occurred:\n",
      "\u001b[1;31mOutOfBoundsDatetime\u001b[0m                       Traceback (most recent call last)",
      "\u001b[1;32m<ipython-input-29-ce8023e77d89>\u001b[0m in \u001b[0;36m<module>\u001b[1;34m\u001b[0m\n\u001b[1;32m----> 1\u001b[1;33m \u001b[0mfunct\u001b[0m\u001b[1;33m.\u001b[0m\u001b[0mconvert_data_types\u001b[0m\u001b[1;33m(\u001b[0m\u001b[0mcleaningdata\u001b[0m\u001b[1;33m,\u001b[0m \u001b[1;34m'date'\u001b[0m\u001b[1;33m,\u001b[0m \u001b[0mincolumns\u001b[0m\u001b[1;33m=\u001b[0m\u001b[1;33m[\u001b[0m\u001b[1;34m'year'\u001b[0m\u001b[1;33m]\u001b[0m\u001b[1;33m)\u001b[0m\u001b[1;33m\u001b[0m\u001b[1;33m\u001b[0m\u001b[0m\n\u001b[0m",
      "\u001b[1;32m~\\Ironhack\\Final Project\\Functions_Books.py\u001b[0m in \u001b[0;36mconvert_data_types\u001b[1;34m(df, convertto, incolumns)\u001b[0m\n\u001b[0;32m     40\u001b[0m             \u001b[0mdf\u001b[0m\u001b[1;33m[\u001b[0m\u001b[0mcolumn\u001b[0m\u001b[1;33m]\u001b[0m\u001b[1;33m=\u001b[0m\u001b[0mdf\u001b[0m\u001b[1;33m[\u001b[0m\u001b[0mcolumn\u001b[0m\u001b[1;33m]\u001b[0m\u001b[1;33m.\u001b[0m\u001b[0mastype\u001b[0m\u001b[1;33m(\u001b[0m\u001b[1;34m'object'\u001b[0m\u001b[1;33m)\u001b[0m\u001b[1;33m\u001b[0m\u001b[1;33m\u001b[0m\u001b[0m\n\u001b[0;32m     41\u001b[0m         \u001b[1;32melif\u001b[0m \u001b[0mconvertto\u001b[0m \u001b[1;33m==\u001b[0m \u001b[1;34m\"date\"\u001b[0m\u001b[1;33m:\u001b[0m\u001b[1;33m\u001b[0m\u001b[1;33m\u001b[0m\u001b[0m\n\u001b[1;32m---> 42\u001b[1;33m             \u001b[0mdf\u001b[0m\u001b[1;33m[\u001b[0m\u001b[0mcolumn\u001b[0m\u001b[1;33m]\u001b[0m\u001b[1;33m=\u001b[0m\u001b[0mpd\u001b[0m\u001b[1;33m.\u001b[0m\u001b[0mto_datetime\u001b[0m\u001b[1;33m(\u001b[0m\u001b[0mdf\u001b[0m\u001b[1;33m[\u001b[0m\u001b[0mcolumn\u001b[0m\u001b[1;33m]\u001b[0m\u001b[1;33m)\u001b[0m\u001b[1;33m\u001b[0m\u001b[1;33m\u001b[0m\u001b[0m\n\u001b[0m\u001b[0;32m     43\u001b[0m         \u001b[1;32melif\u001b[0m \u001b[0mconvertto\u001b[0m \u001b[1;33m==\u001b[0m \u001b[1;34m\"number\"\u001b[0m\u001b[1;33m:\u001b[0m\u001b[1;33m\u001b[0m\u001b[1;33m\u001b[0m\u001b[0m\n\u001b[0;32m     44\u001b[0m             \u001b[0mdf\u001b[0m\u001b[1;33m[\u001b[0m\u001b[0mcolumn\u001b[0m\u001b[1;33m]\u001b[0m\u001b[1;33m=\u001b[0m\u001b[0mpd\u001b[0m\u001b[1;33m.\u001b[0m\u001b[0mto_numeric\u001b[0m\u001b[1;33m(\u001b[0m\u001b[0mdf\u001b[0m\u001b[1;33m[\u001b[0m\u001b[0mcolumn\u001b[0m\u001b[1;33m]\u001b[0m\u001b[1;33m)\u001b[0m\u001b[1;33m\u001b[0m\u001b[1;33m\u001b[0m\u001b[0m\n",
      "\u001b[1;32mc:\\users\\anton\\appdata\\local\\programs\\python\\python39\\lib\\site-packages\\pandas\\core\\tools\\datetimes.py\u001b[0m in \u001b[0;36mto_datetime\u001b[1;34m(arg, errors, dayfirst, yearfirst, utc, format, exact, unit, infer_datetime_format, origin, cache)\u001b[0m\n\u001b[0;32m    799\u001b[0m                 \u001b[0mresult\u001b[0m \u001b[1;33m=\u001b[0m \u001b[0mresult\u001b[0m\u001b[1;33m.\u001b[0m\u001b[0mtz_localize\u001b[0m\u001b[1;33m(\u001b[0m\u001b[0mtz\u001b[0m\u001b[1;33m)\u001b[0m\u001b[1;33m\u001b[0m\u001b[1;33m\u001b[0m\u001b[0m\n\u001b[0;32m    800\u001b[0m     \u001b[1;32melif\u001b[0m \u001b[0misinstance\u001b[0m\u001b[1;33m(\u001b[0m\u001b[0marg\u001b[0m\u001b[1;33m,\u001b[0m \u001b[0mABCSeries\u001b[0m\u001b[1;33m)\u001b[0m\u001b[1;33m:\u001b[0m\u001b[1;33m\u001b[0m\u001b[1;33m\u001b[0m\u001b[0m\n\u001b[1;32m--> 801\u001b[1;33m         \u001b[0mcache_array\u001b[0m \u001b[1;33m=\u001b[0m \u001b[0m_maybe_cache\u001b[0m\u001b[1;33m(\u001b[0m\u001b[0marg\u001b[0m\u001b[1;33m,\u001b[0m \u001b[0mformat\u001b[0m\u001b[1;33m,\u001b[0m \u001b[0mcache\u001b[0m\u001b[1;33m,\u001b[0m \u001b[0mconvert_listlike\u001b[0m\u001b[1;33m)\u001b[0m\u001b[1;33m\u001b[0m\u001b[1;33m\u001b[0m\u001b[0m\n\u001b[0m\u001b[0;32m    802\u001b[0m         \u001b[1;32mif\u001b[0m \u001b[1;32mnot\u001b[0m \u001b[0mcache_array\u001b[0m\u001b[1;33m.\u001b[0m\u001b[0mempty\u001b[0m\u001b[1;33m:\u001b[0m\u001b[1;33m\u001b[0m\u001b[1;33m\u001b[0m\u001b[0m\n\u001b[0;32m    803\u001b[0m             \u001b[0mresult\u001b[0m \u001b[1;33m=\u001b[0m \u001b[0marg\u001b[0m\u001b[1;33m.\u001b[0m\u001b[0mmap\u001b[0m\u001b[1;33m(\u001b[0m\u001b[0mcache_array\u001b[0m\u001b[1;33m)\u001b[0m\u001b[1;33m\u001b[0m\u001b[1;33m\u001b[0m\u001b[0m\n",
      "\u001b[1;32mc:\\users\\anton\\appdata\\local\\programs\\python\\python39\\lib\\site-packages\\pandas\\core\\tools\\datetimes.py\u001b[0m in \u001b[0;36m_maybe_cache\u001b[1;34m(arg, format, cache, convert_listlike)\u001b[0m\n\u001b[0;32m    176\u001b[0m         \u001b[0munique_dates\u001b[0m \u001b[1;33m=\u001b[0m \u001b[0munique\u001b[0m\u001b[1;33m(\u001b[0m\u001b[0marg\u001b[0m\u001b[1;33m)\u001b[0m\u001b[1;33m\u001b[0m\u001b[1;33m\u001b[0m\u001b[0m\n\u001b[0;32m    177\u001b[0m         \u001b[1;32mif\u001b[0m \u001b[0mlen\u001b[0m\u001b[1;33m(\u001b[0m\u001b[0munique_dates\u001b[0m\u001b[1;33m)\u001b[0m \u001b[1;33m<\u001b[0m \u001b[0mlen\u001b[0m\u001b[1;33m(\u001b[0m\u001b[0marg\u001b[0m\u001b[1;33m)\u001b[0m\u001b[1;33m:\u001b[0m\u001b[1;33m\u001b[0m\u001b[1;33m\u001b[0m\u001b[0m\n\u001b[1;32m--> 178\u001b[1;33m             \u001b[0mcache_dates\u001b[0m \u001b[1;33m=\u001b[0m \u001b[0mconvert_listlike\u001b[0m\u001b[1;33m(\u001b[0m\u001b[0munique_dates\u001b[0m\u001b[1;33m,\u001b[0m \u001b[0mformat\u001b[0m\u001b[1;33m)\u001b[0m\u001b[1;33m\u001b[0m\u001b[1;33m\u001b[0m\u001b[0m\n\u001b[0m\u001b[0;32m    179\u001b[0m             \u001b[0mcache_array\u001b[0m \u001b[1;33m=\u001b[0m \u001b[0mSeries\u001b[0m\u001b[1;33m(\u001b[0m\u001b[0mcache_dates\u001b[0m\u001b[1;33m,\u001b[0m \u001b[0mindex\u001b[0m\u001b[1;33m=\u001b[0m\u001b[0munique_dates\u001b[0m\u001b[1;33m)\u001b[0m\u001b[1;33m\u001b[0m\u001b[1;33m\u001b[0m\u001b[0m\n\u001b[0;32m    180\u001b[0m     \u001b[1;32mreturn\u001b[0m \u001b[0mcache_array\u001b[0m\u001b[1;33m\u001b[0m\u001b[1;33m\u001b[0m\u001b[0m\n",
      "\u001b[1;32mc:\\users\\anton\\appdata\\local\\programs\\python\\python39\\lib\\site-packages\\pandas\\core\\tools\\datetimes.py\u001b[0m in \u001b[0;36m_convert_listlike_datetimes\u001b[1;34m(arg, format, name, tz, unit, errors, infer_datetime_format, dayfirst, yearfirst, exact)\u001b[0m\n\u001b[0;32m    463\u001b[0m         \u001b[1;32massert\u001b[0m \u001b[0mformat\u001b[0m \u001b[1;32mis\u001b[0m \u001b[1;32mNone\u001b[0m \u001b[1;32mor\u001b[0m \u001b[0minfer_datetime_format\u001b[0m\u001b[1;33m\u001b[0m\u001b[1;33m\u001b[0m\u001b[0m\n\u001b[0;32m    464\u001b[0m         \u001b[0mutc\u001b[0m \u001b[1;33m=\u001b[0m \u001b[0mtz\u001b[0m \u001b[1;33m==\u001b[0m \u001b[1;34m\"utc\"\u001b[0m\u001b[1;33m\u001b[0m\u001b[1;33m\u001b[0m\u001b[0m\n\u001b[1;32m--> 465\u001b[1;33m         result, tz_parsed = objects_to_datetime64ns(\n\u001b[0m\u001b[0;32m    466\u001b[0m             \u001b[0marg\u001b[0m\u001b[1;33m,\u001b[0m\u001b[1;33m\u001b[0m\u001b[1;33m\u001b[0m\u001b[0m\n\u001b[0;32m    467\u001b[0m             \u001b[0mdayfirst\u001b[0m\u001b[1;33m=\u001b[0m\u001b[0mdayfirst\u001b[0m\u001b[1;33m,\u001b[0m\u001b[1;33m\u001b[0m\u001b[1;33m\u001b[0m\u001b[0m\n",
      "\u001b[1;32mc:\\users\\anton\\appdata\\local\\programs\\python\\python39\\lib\\site-packages\\pandas\\core\\arrays\\datetimes.py\u001b[0m in \u001b[0;36mobjects_to_datetime64ns\u001b[1;34m(data, dayfirst, yearfirst, utc, errors, require_iso8601, allow_object)\u001b[0m\n\u001b[0;32m   2088\u001b[0m             \u001b[1;32mreturn\u001b[0m \u001b[0mvalues\u001b[0m\u001b[1;33m.\u001b[0m\u001b[0mview\u001b[0m\u001b[1;33m(\u001b[0m\u001b[1;34m\"i8\"\u001b[0m\u001b[1;33m)\u001b[0m\u001b[1;33m,\u001b[0m \u001b[0mtz_parsed\u001b[0m\u001b[1;33m\u001b[0m\u001b[1;33m\u001b[0m\u001b[0m\n\u001b[0;32m   2089\u001b[0m         \u001b[1;32mexcept\u001b[0m \u001b[1;33m(\u001b[0m\u001b[0mValueError\u001b[0m\u001b[1;33m,\u001b[0m \u001b[0mTypeError\u001b[0m\u001b[1;33m)\u001b[0m\u001b[1;33m:\u001b[0m\u001b[1;33m\u001b[0m\u001b[1;33m\u001b[0m\u001b[0m\n\u001b[1;32m-> 2090\u001b[1;33m             \u001b[1;32mraise\u001b[0m \u001b[0me\u001b[0m\u001b[1;33m\u001b[0m\u001b[1;33m\u001b[0m\u001b[0m\n\u001b[0m\u001b[0;32m   2091\u001b[0m \u001b[1;33m\u001b[0m\u001b[0m\n\u001b[0;32m   2092\u001b[0m     \u001b[1;32mif\u001b[0m \u001b[0mtz_parsed\u001b[0m \u001b[1;32mis\u001b[0m \u001b[1;32mnot\u001b[0m \u001b[1;32mNone\u001b[0m\u001b[1;33m:\u001b[0m\u001b[1;33m\u001b[0m\u001b[1;33m\u001b[0m\u001b[0m\n",
      "\u001b[1;32mc:\\users\\anton\\appdata\\local\\programs\\python\\python39\\lib\\site-packages\\pandas\\core\\arrays\\datetimes.py\u001b[0m in \u001b[0;36mobjects_to_datetime64ns\u001b[1;34m(data, dayfirst, yearfirst, utc, errors, require_iso8601, allow_object)\u001b[0m\n\u001b[0;32m   2073\u001b[0m \u001b[1;33m\u001b[0m\u001b[0m\n\u001b[0;32m   2074\u001b[0m     \u001b[1;32mtry\u001b[0m\u001b[1;33m:\u001b[0m\u001b[1;33m\u001b[0m\u001b[1;33m\u001b[0m\u001b[0m\n\u001b[1;32m-> 2075\u001b[1;33m         result, tz_parsed = tslib.array_to_datetime(\n\u001b[0m\u001b[0;32m   2076\u001b[0m             \u001b[0mdata\u001b[0m\u001b[1;33m,\u001b[0m\u001b[1;33m\u001b[0m\u001b[1;33m\u001b[0m\u001b[0m\n\u001b[0;32m   2077\u001b[0m             \u001b[0merrors\u001b[0m\u001b[1;33m=\u001b[0m\u001b[0merrors\u001b[0m\u001b[1;33m,\u001b[0m\u001b[1;33m\u001b[0m\u001b[1;33m\u001b[0m\u001b[0m\n",
      "\u001b[1;32mpandas\\_libs\\tslib.pyx\u001b[0m in \u001b[0;36mpandas._libs.tslib.array_to_datetime\u001b[1;34m()\u001b[0m\n",
      "\u001b[1;32mpandas\\_libs\\tslib.pyx\u001b[0m in \u001b[0;36mpandas._libs.tslib.array_to_datetime\u001b[1;34m()\u001b[0m\n",
      "\u001b[1;32mpandas\\_libs\\tslib.pyx\u001b[0m in \u001b[0;36mpandas._libs.tslib.array_to_datetime\u001b[1;34m()\u001b[0m\n",
      "\u001b[1;32mpandas\\_libs\\tslib.pyx\u001b[0m in \u001b[0;36mpandas._libs.tslib.array_to_datetime\u001b[1;34m()\u001b[0m\n",
      "\u001b[1;32mpandas\\_libs\\tslibs\\np_datetime.pyx\u001b[0m in \u001b[0;36mpandas._libs.tslibs.np_datetime.check_dts_bounds\u001b[1;34m()\u001b[0m\n",
      "\u001b[1;31mOutOfBoundsDatetime\u001b[0m: Out of bounds nanosecond timestamp: 1597-01-01 00:00:00"
     ]
    }
   ],
   "source": [
    "#funct.convert_data_types(cleaningdata, 'date', incolumns=['year']) -open"
   ]
  },
  {
   "cell_type": "markdown",
   "id": "a25cd41f",
   "metadata": {},
   "source": [
    "## Clean column Series"
   ]
  },
  {
   "cell_type": "markdown",
   "id": "1553d5c9",
   "metadata": {},
   "source": [
    "A lot of empty data, as not all books are part of a series"
   ]
  },
  {
   "cell_type": "code",
   "execution_count": 32,
   "id": "11fd57f5",
   "metadata": {},
   "outputs": [],
   "source": [
    "cleaningdata['series'] = cleaningdata['series'].astype(str).apply(lambda x: x.replace('[',''))"
   ]
  },
  {
   "cell_type": "code",
   "execution_count": 33,
   "id": "11d82d97",
   "metadata": {},
   "outputs": [],
   "source": [
    "cleaningdata['series'] = cleaningdata['series'].astype(str).apply(lambda x: x.replace(']',''))"
   ]
  },
  {
   "cell_type": "code",
   "execution_count": 34,
   "id": "cf060502",
   "metadata": {},
   "outputs": [],
   "source": [
    "cleaningdata['series'] = cleaningdata['series'].astype(str).apply(lambda x: x.replace('',''))"
   ]
  },
  {
   "cell_type": "code",
   "execution_count": 36,
   "id": "42f86752",
   "metadata": {},
   "outputs": [],
   "source": [
    "funct.replace_in_column(cleaningdata,'series','nan','none')"
   ]
  },
  {
   "cell_type": "code",
   "execution_count": 37,
   "id": "8eb2bed6",
   "metadata": {},
   "outputs": [
    {
     "data": {
      "text/html": [
       "<div>\n",
       "<style scoped>\n",
       "    .dataframe tbody tr th:only-of-type {\n",
       "        vertical-align: middle;\n",
       "    }\n",
       "\n",
       "    .dataframe tbody tr th {\n",
       "        vertical-align: top;\n",
       "    }\n",
       "\n",
       "    .dataframe thead th {\n",
       "        text-align: right;\n",
       "    }\n",
       "</style>\n",
       "<table border=\"1\" class=\"dataframe\">\n",
       "  <thead>\n",
       "    <tr style=\"text-align: right;\">\n",
       "      <th></th>\n",
       "      <th>title</th>\n",
       "      <th>series</th>\n",
       "      <th>authors</th>\n",
       "      <th>isbn</th>\n",
       "      <th>genres</th>\n",
       "      <th>description</th>\n",
       "      <th>pages</th>\n",
       "      <th>year</th>\n",
       "      <th>language</th>\n",
       "      <th>cover_image</th>\n",
       "      <th>total_number_ratings</th>\n",
       "      <th>average_rating</th>\n",
       "    </tr>\n",
       "  </thead>\n",
       "  <tbody>\n",
       "  </tbody>\n",
       "</table>\n",
       "</div>"
      ],
      "text/plain": [
       "Empty DataFrame\n",
       "Columns: [title, series, authors, isbn, genres, description, pages, year, language, cover_image, total_number_ratings, average_rating]\n",
       "Index: []"
      ]
     },
     "execution_count": 37,
     "metadata": {},
     "output_type": "execute_result"
    }
   ],
   "source": [
    "cleaningdata[cleaningdata['series'].isna()==True] "
   ]
  },
  {
   "cell_type": "code",
   "execution_count": 38,
   "id": "621f5a71",
   "metadata": {},
   "outputs": [
    {
     "data": {
      "text/plain": [
       "none                         5629\n",
       "The Chronicles of Narnia        6\n",
       "Hainish Cycle                   5\n",
       "Bird Brain                      5\n",
       "James Bond                      5\n",
       "                             ... \n",
       "The Bridge Chronicles #1        1\n",
       "Cotton Malone #2                1\n",
       "Firebird #1                     1\n",
       "The Deptford Trilogy #1         1\n",
       "I Hunt Killers #1               1\n",
       "Name: series, Length: 2690, dtype: int64"
      ]
     },
     "execution_count": 38,
     "metadata": {},
     "output_type": "execute_result"
    }
   ],
   "source": [
    "cleaningdata['series'].value_counts()"
   ]
  },
  {
   "cell_type": "markdown",
   "id": "2f4f2806",
   "metadata": {},
   "source": [
    "## Clean column \"authors\""
   ]
  },
  {
   "cell_type": "code",
   "execution_count": 39,
   "id": "c43d4e25",
   "metadata": {},
   "outputs": [],
   "source": [
    "cleaningdata['authors'] = cleaningdata['authors'].astype(str).apply(lambda x: x.replace('[',''))"
   ]
  },
  {
   "cell_type": "code",
   "execution_count": 40,
   "id": "c0e7aa27",
   "metadata": {},
   "outputs": [],
   "source": [
    "cleaningdata['authors'] = cleaningdata['authors'].astype(str).apply(lambda x: x.replace(']',''))"
   ]
  },
  {
   "cell_type": "code",
   "execution_count": 41,
   "id": "434435e6",
   "metadata": {},
   "outputs": [
    {
     "ename": "SyntaxError",
     "evalue": "EOF while scanning triple-quoted string literal (<ipython-input-41-97035d815404>, line 1)",
     "output_type": "error",
     "traceback": [
      "\u001b[1;36m  File \u001b[1;32m\"<ipython-input-41-97035d815404>\"\u001b[1;36m, line \u001b[1;32m1\u001b[0m\n\u001b[1;33m    cleaningdata['authors'] = cleaningdata['authors'].astype(str).apply(lambda x: x.replace(''',''))\u001b[0m\n\u001b[1;37m                                                                                                    ^\u001b[0m\n\u001b[1;31mSyntaxError\u001b[0m\u001b[1;31m:\u001b[0m EOF while scanning triple-quoted string literal\n"
     ]
    }
   ],
   "source": [
    "funct.replace_in_column(cleaningdata,'authors','','') #- How do I do that? "
   ]
  },
  {
   "cell_type": "code",
   "execution_count": 42,
   "id": "7b14d6d6",
   "metadata": {},
   "outputs": [
    {
     "data": {
      "text/plain": [
       "'Stephen King'                        42\n",
       "'Terry Pratchett'                     29\n",
       "'David Baldacci'                      23\n",
       "'Lucian Bane'                         21\n",
       "'John Grisham'                        20\n",
       "                                      ..\n",
       "'Robert M. Pirsig'                     1\n",
       "'Alan Aronoff'                         1\n",
       "'Tracy Kidder'                         1\n",
       "'Kelli Sullivan'                       1\n",
       "'Xavier de Montepin', 'رحاب عكاوي'     1\n",
       "Name: authors, Length: 5932, dtype: int64"
      ]
     },
     "execution_count": 42,
     "metadata": {},
     "output_type": "execute_result"
    }
   ],
   "source": [
    "cleaningdata['authors'].value_counts()"
   ]
  },
  {
   "cell_type": "markdown",
   "id": "d80c0bf0",
   "metadata": {},
   "source": [
    "## Clean column language"
   ]
  },
  {
   "cell_type": "code",
   "execution_count": 51,
   "id": "92d882f8",
   "metadata": {},
   "outputs": [
    {
     "data": {
      "text/plain": [
       "English               7606\n",
       "none                   542\n",
       "Arabic                  55\n",
       "French                  37\n",
       "German                  31\n",
       "Spanish                 29\n",
       "Persian                 17\n",
       "Portuguese              16\n",
       "Dutch                   14\n",
       "Polish                  12\n",
       "Romanian                 7\n",
       "Italian                  7\n",
       "Turkish                  7\n",
       "Indonesian               6\n",
       "Multiple languages       5\n",
       "Swedish                  4\n",
       "Greek                    4\n",
       "Tamil                    3\n",
       "Hindi                    2\n",
       "Malayalam                2\n",
       "Finnish                  2\n",
       "Filipino, Pilipino       2\n",
       "Urdu                     2\n",
       "Russian                  2\n",
       "Ukrainian                2\n",
       "Creek                    1\n",
       "Gujarati                 1\n",
       "Catalan, Valencian       1\n",
       "Serbian                  1\n",
       "Scots                    1\n",
       "Danish                   1\n",
       "Croatian                 1\n",
       "Malay                    1\n",
       "Hungarian                1\n",
       "Tagalog                  1\n",
       "Norwegian                1\n",
       "Bulgarian                1\n",
       "Telugu                   1\n",
       "Japanese                 1\n",
       "Kannada                  1\n",
       "Name: language, dtype: int64"
      ]
     },
     "execution_count": 51,
     "metadata": {},
     "output_type": "execute_result"
    }
   ],
   "source": [
    "cleaningdata['language'].value_counts()"
   ]
  },
  {
   "cell_type": "code",
   "execution_count": 44,
   "id": "2d3a399a",
   "metadata": {},
   "outputs": [],
   "source": [
    "cleaningdata['language'] = cleaningdata['language'].astype(str).apply(lambda x: x.replace('Bokmål, Norwegian; Norwegian Bokmål','Norwegian'))"
   ]
  },
  {
   "cell_type": "code",
   "execution_count": 46,
   "id": "0b9d7f87",
   "metadata": {},
   "outputs": [],
   "source": [
    "cleaningdata['language'] = cleaningdata['language'].astype(str).apply(lambda x: x.replace('Greek, Modern (1453-)','Greek'))"
   ]
  },
  {
   "cell_type": "code",
   "execution_count": 48,
   "id": "583693b3",
   "metadata": {},
   "outputs": [],
   "source": [
    "cleaningdata['language'] = cleaningdata['language'].astype(str).apply(lambda x: x.replace(';',','))"
   ]
  },
  {
   "cell_type": "code",
   "execution_count": 50,
   "id": "54b211b1",
   "metadata": {},
   "outputs": [],
   "source": [
    "cleaningdata['language'] = cleaningdata['language'].astype(str).apply(lambda x: x.replace('nan','none'))"
   ]
  },
  {
   "cell_type": "markdown",
   "id": "c8e60f0a",
   "metadata": {},
   "source": [
    "## Clean column 'Genres'"
   ]
  },
  {
   "cell_type": "code",
   "execution_count": 52,
   "id": "df817e17",
   "metadata": {},
   "outputs": [],
   "source": [
    "cleaningdata['genres'] = cleaningdata['genres'].astype(str).apply(lambda x: x.replace('[',''))"
   ]
  },
  {
   "cell_type": "code",
   "execution_count": 53,
   "id": "58d23cc9",
   "metadata": {},
   "outputs": [],
   "source": [
    "cleaningdata['genres'] = cleaningdata['genres'].astype(str).apply(lambda x: x.replace(']',''))"
   ]
  },
  {
   "cell_type": "code",
   "execution_count": 67,
   "id": "ff3588a0",
   "metadata": {},
   "outputs": [
    {
     "data": {
      "text/html": [
       "<div>\n",
       "<style scoped>\n",
       "    .dataframe tbody tr th:only-of-type {\n",
       "        vertical-align: middle;\n",
       "    }\n",
       "\n",
       "    .dataframe tbody tr th {\n",
       "        vertical-align: top;\n",
       "    }\n",
       "\n",
       "    .dataframe thead th {\n",
       "        text-align: right;\n",
       "    }\n",
       "</style>\n",
       "<table border=\"1\" class=\"dataframe\">\n",
       "  <thead>\n",
       "    <tr style=\"text-align: right;\">\n",
       "      <th></th>\n",
       "      <th>title</th>\n",
       "      <th>series</th>\n",
       "      <th>authors</th>\n",
       "      <th>isbn</th>\n",
       "      <th>genres</th>\n",
       "      <th>description</th>\n",
       "      <th>pages</th>\n",
       "      <th>year</th>\n",
       "      <th>language</th>\n",
       "      <th>cover_image</th>\n",
       "      <th>total_number_ratings</th>\n",
       "      <th>average_rating</th>\n",
       "    </tr>\n",
       "  </thead>\n",
       "  <tbody>\n",
       "    <tr>\n",
       "      <th>561</th>\n",
       "      <td>Life Song</td>\n",
       "      <td>none</td>\n",
       "      <td>'Christine M. Knight'</td>\n",
       "      <td>9780987434852</td>\n",
       "      <td></td>\n",
       "      <td>Overview: Mavis was born to be a songbird. Her...</td>\n",
       "      <td>338</td>\n",
       "      <td>2013</td>\n",
       "      <td>none</td>\n",
       "      <td>https://i.gr-assets.com/images/S/compressed.ph...</td>\n",
       "      <td>80</td>\n",
       "      <td>4.15</td>\n",
       "    </tr>\n",
       "    <tr>\n",
       "      <th>880</th>\n",
       "      <td>Song Bird: Matters of the Heart</td>\n",
       "      <td>none</td>\n",
       "      <td>'Christine M. Knight'</td>\n",
       "      <td>9780987434869</td>\n",
       "      <td></td>\n",
       "      <td>“I’m not Mavis anymore.”For years, song bird N...</td>\n",
       "      <td>304</td>\n",
       "      <td>2015</td>\n",
       "      <td>English</td>\n",
       "      <td>https://i.gr-assets.com/images/S/compressed.ph...</td>\n",
       "      <td>41</td>\n",
       "      <td>4.49</td>\n",
       "    </tr>\n",
       "    <tr>\n",
       "      <th>941</th>\n",
       "      <td>Diya aur baati hum</td>\n",
       "      <td>none</td>\n",
       "      <td>'Snehlata Agarwala'</td>\n",
       "      <td>1091944040</td>\n",
       "      <td></td>\n",
       "      <td>What had happened to the ever so confident Dha...</td>\n",
       "      <td>0</td>\n",
       "      <td>2020</td>\n",
       "      <td>none</td>\n",
       "      <td>https://i.gr-assets.com/images/S/compressed.ph...</td>\n",
       "      <td>117</td>\n",
       "      <td>4.76</td>\n",
       "    </tr>\n",
       "    <tr>\n",
       "      <th>1324</th>\n",
       "      <td>Why They Stay: Sex Scandals, Deals, and Hidden...</td>\n",
       "      <td>none</td>\n",
       "      <td>'Anne Michaud'</td>\n",
       "      <td>0</td>\n",
       "      <td></td>\n",
       "      <td>None</td>\n",
       "      <td>0</td>\n",
       "      <td>2021</td>\n",
       "      <td>none</td>\n",
       "      <td>https://i.gr-assets.com/images/S/compressed.ph...</td>\n",
       "      <td>101</td>\n",
       "      <td>4.40</td>\n",
       "    </tr>\n",
       "    <tr>\n",
       "      <th>1361</th>\n",
       "      <td>Big Money: A Global Financial Thriller (Financ...</td>\n",
       "      <td>none</td>\n",
       "      <td>'James  Hudson'</td>\n",
       "      <td>0</td>\n",
       "      <td></td>\n",
       "      <td>🔥🌟⚡George Hartley wakes up and realizes that h...</td>\n",
       "      <td>0</td>\n",
       "      <td>2020</td>\n",
       "      <td>English</td>\n",
       "      <td>https://i.gr-assets.com/images/S/compressed.ph...</td>\n",
       "      <td>52</td>\n",
       "      <td>4.17</td>\n",
       "    </tr>\n",
       "    <tr>\n",
       "      <th>...</th>\n",
       "      <td>...</td>\n",
       "      <td>...</td>\n",
       "      <td>...</td>\n",
       "      <td>...</td>\n",
       "      <td>...</td>\n",
       "      <td>...</td>\n",
       "      <td>...</td>\n",
       "      <td>...</td>\n",
       "      <td>...</td>\n",
       "      <td>...</td>\n",
       "      <td>...</td>\n",
       "      <td>...</td>\n",
       "    </tr>\n",
       "    <tr>\n",
       "      <th>8419</th>\n",
       "      <td>They're Not Coming...: An Evolutionary Analysi...</td>\n",
       "      <td>none</td>\n",
       "      <td>'Sheila Robinson-Kiss'</td>\n",
       "      <td>1631730932</td>\n",
       "      <td></td>\n",
       "      <td>From our connections with our friends, family,...</td>\n",
       "      <td>244</td>\n",
       "      <td>2014</td>\n",
       "      <td>English</td>\n",
       "      <td>https://i.gr-assets.com/images/S/compressed.ph...</td>\n",
       "      <td>3</td>\n",
       "      <td>4.00</td>\n",
       "    </tr>\n",
       "    <tr>\n",
       "      <th>8420</th>\n",
       "      <td>The Elemental Master</td>\n",
       "      <td>none</td>\n",
       "      <td>'Glen Garrett'</td>\n",
       "      <td>0</td>\n",
       "      <td></td>\n",
       "      <td>NaN</td>\n",
       "      <td>0</td>\n",
       "      <td>2013</td>\n",
       "      <td>English</td>\n",
       "      <td>https://i.gr-assets.com/images/S/compressed.ph...</td>\n",
       "      <td>6</td>\n",
       "      <td>4.83</td>\n",
       "    </tr>\n",
       "    <tr>\n",
       "      <th>8421</th>\n",
       "      <td>Innocent Blood</td>\n",
       "      <td>none</td>\n",
       "      <td>'Louann Carroll'</td>\n",
       "      <td>9781941637128</td>\n",
       "      <td></td>\n",
       "      <td>Danny Fisk has a secret no one outside his fam...</td>\n",
       "      <td>263</td>\n",
       "      <td>2015</td>\n",
       "      <td>English</td>\n",
       "      <td>https://i.gr-assets.com/images/S/compressed.ph...</td>\n",
       "      <td>11</td>\n",
       "      <td>4.27</td>\n",
       "    </tr>\n",
       "    <tr>\n",
       "      <th>8426</th>\n",
       "      <td>The Stove-Junker</td>\n",
       "      <td>none</td>\n",
       "      <td>'S.K. Kalsi'</td>\n",
       "      <td>9780990779063</td>\n",
       "      <td></td>\n",
       "      <td>In the winter of 2012, 79-year-old Somerset Ga...</td>\n",
       "      <td>338</td>\n",
       "      <td>2015</td>\n",
       "      <td>English</td>\n",
       "      <td>https://i.gr-assets.com/images/S/compressed.ph...</td>\n",
       "      <td>23</td>\n",
       "      <td>3.65</td>\n",
       "    </tr>\n",
       "    <tr>\n",
       "      <th>8428</th>\n",
       "      <td>100 Years: A Journey to End a Vicious Cycle</td>\n",
       "      <td>none</td>\n",
       "      <td>'Mark L. Baynard'</td>\n",
       "      <td>9780986138003</td>\n",
       "      <td></td>\n",
       "      <td>100 Years, A Journey to End a Vicious Cycle is...</td>\n",
       "      <td>290</td>\n",
       "      <td>2015</td>\n",
       "      <td>English</td>\n",
       "      <td>https://i.gr-assets.com/images/S/compressed.ph...</td>\n",
       "      <td>13</td>\n",
       "      <td>4.00</td>\n",
       "    </tr>\n",
       "  </tbody>\n",
       "</table>\n",
       "<p>873 rows × 12 columns</p>\n",
       "</div>"
      ],
      "text/plain": [
       "                                                  title series  \\\n",
       "561                                           Life Song   none   \n",
       "880                     Song Bird: Matters of the Heart   none   \n",
       "941                                  Diya aur baati hum   none   \n",
       "1324  Why They Stay: Sex Scandals, Deals, and Hidden...   none   \n",
       "1361  Big Money: A Global Financial Thriller (Financ...   none   \n",
       "...                                                 ...    ...   \n",
       "8419  They're Not Coming...: An Evolutionary Analysi...   none   \n",
       "8420                               The Elemental Master   none   \n",
       "8421                                     Innocent Blood   none   \n",
       "8426                                   The Stove-Junker   none   \n",
       "8428        100 Years: A Journey to End a Vicious Cycle   none   \n",
       "\n",
       "                     authors           isbn genres  \\\n",
       "561    'Christine M. Knight'  9780987434852          \n",
       "880    'Christine M. Knight'  9780987434869          \n",
       "941      'Snehlata Agarwala'     1091944040          \n",
       "1324          'Anne Michaud'              0          \n",
       "1361         'James  Hudson'              0          \n",
       "...                      ...            ...    ...   \n",
       "8419  'Sheila Robinson-Kiss'     1631730932          \n",
       "8420          'Glen Garrett'              0          \n",
       "8421        'Louann Carroll'  9781941637128          \n",
       "8426            'S.K. Kalsi'  9780990779063          \n",
       "8428       'Mark L. Baynard'  9780986138003          \n",
       "\n",
       "                                            description  pages  year language  \\\n",
       "561   Overview: Mavis was born to be a songbird. Her...    338  2013     none   \n",
       "880   “I’m not Mavis anymore.”For years, song bird N...    304  2015  English   \n",
       "941   What had happened to the ever so confident Dha...      0  2020     none   \n",
       "1324                                               None      0  2021     none   \n",
       "1361  🔥🌟⚡George Hartley wakes up and realizes that h...      0  2020  English   \n",
       "...                                                 ...    ...   ...      ...   \n",
       "8419  From our connections with our friends, family,...    244  2014  English   \n",
       "8420                                                NaN      0  2013  English   \n",
       "8421  Danny Fisk has a secret no one outside his fam...    263  2015  English   \n",
       "8426  In the winter of 2012, 79-year-old Somerset Ga...    338  2015  English   \n",
       "8428  100 Years, A Journey to End a Vicious Cycle is...    290  2015  English   \n",
       "\n",
       "                                            cover_image  total_number_ratings  \\\n",
       "561   https://i.gr-assets.com/images/S/compressed.ph...                    80   \n",
       "880   https://i.gr-assets.com/images/S/compressed.ph...                    41   \n",
       "941   https://i.gr-assets.com/images/S/compressed.ph...                   117   \n",
       "1324  https://i.gr-assets.com/images/S/compressed.ph...                   101   \n",
       "1361  https://i.gr-assets.com/images/S/compressed.ph...                    52   \n",
       "...                                                 ...                   ...   \n",
       "8419  https://i.gr-assets.com/images/S/compressed.ph...                     3   \n",
       "8420  https://i.gr-assets.com/images/S/compressed.ph...                     6   \n",
       "8421  https://i.gr-assets.com/images/S/compressed.ph...                    11   \n",
       "8426  https://i.gr-assets.com/images/S/compressed.ph...                    23   \n",
       "8428  https://i.gr-assets.com/images/S/compressed.ph...                    13   \n",
       "\n",
       "      average_rating  \n",
       "561             4.15  \n",
       "880             4.49  \n",
       "941             4.76  \n",
       "1324            4.40  \n",
       "1361            4.17  \n",
       "...              ...  \n",
       "8419            4.00  \n",
       "8420            4.83  \n",
       "8421            4.27  \n",
       "8426            3.65  \n",
       "8428            4.00  \n",
       "\n",
       "[873 rows x 12 columns]"
      ]
     },
     "execution_count": 67,
     "metadata": {},
     "output_type": "execute_result"
    }
   ],
   "source": [
    "cleaningdata[cleaningdata['genres']== '']#873 with genres = ''"
   ]
  },
  {
   "cell_type": "code",
   "execution_count": 68,
   "id": "4a8199e4",
   "metadata": {},
   "outputs": [],
   "source": [
    "cleaningdata.to_csv(r'DataFinal\\DataCleaningaftercategorical.csv')"
   ]
  }
 ],
 "metadata": {
  "kernelspec": {
   "display_name": "Python 3",
   "language": "python",
   "name": "python3"
  },
  "language_info": {
   "codemirror_mode": {
    "name": "ipython",
    "version": 3
   },
   "file_extension": ".py",
   "mimetype": "text/x-python",
   "name": "python",
   "nbconvert_exporter": "python",
   "pygments_lexer": "ipython3",
   "version": "3.9.4"
  },
  "toc": {
   "base_numbering": 1,
   "nav_menu": {},
   "number_sections": true,
   "sideBar": true,
   "skip_h1_title": true,
   "title_cell": "Table of Contents",
   "title_sidebar": "Contents",
   "toc_cell": false,
   "toc_position": {},
   "toc_section_display": true,
   "toc_window_display": true
  }
 },
 "nbformat": 4,
 "nbformat_minor": 5
}
